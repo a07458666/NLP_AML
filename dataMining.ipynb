{
 "cells": [
  {
   "cell_type": "code",
   "execution_count": 1,
   "metadata": {},
   "outputs": [],
   "source": [
    "import numpy as np\n",
    "import pandas as pd\n",
    "from Utils import *\n",
    "\n",
    "#crawler\n",
    "import requests\n",
    "from bs4 import BeautifulSoup"
   ]
  },
  {
   "cell_type": "code",
   "execution_count": 2,
   "metadata": {},
   "outputs": [],
   "source": [
    "# 讀入官方的data\n",
    "df = pd.read_csv('./data/tbrain_train_final_0610.csv')  "
   ]
  },
  {
   "cell_type": "code",
   "execution_count": 3,
   "metadata": {
    "tags": []
   },
   "outputs": [
    {
     "output_type": "execute_result",
     "data": {
      "text/plain": "    news_ID                                          hyperlink  \\\n60       61  https://sina.com.hk/news/article/20190919/1/11...   \n61       62            https://udn.com/news/story/7238/4250717   \n62       63  https://m.ctee.com.tw/livenews/lm/ctee/a076720...   \n63       64          https://news.tvbs.com.tw/politics/1254204   \n64       65  https://www.ettoday.net/amp/amp_news.php?news_...   \n65       66  https://news.ltn.com.tw/news/society/paper/131...   \n66       67             https://news.cnyes.com/news/id/4366465   \n67       68  https://m.ctee.com.tw/livenews/ch/chinatimes/2...   \n68       69   https://www.mirrormedia.mg/story/20191223web003/   \n69       70            https://udn.com/news/story/6812/4126842   \n\n                                              content     name  \n60  原標題：龐大董事換血 ### 省略內文 ### 增持計劃不設價格區間。新京報記者王琳琳圖片來...       []  \n61  台北市長柯文哲(柯P)的母親(柯媽)今天(26)日下午表示 ### 省略內文 ### 一起挺...       []  \n62         2019年區議會選舉24日舉行 ### 省略內文 ### 投票人數亦創回歸以來新高。       []  \n63  國民黨今天再打民進黨網軍案 ### 省略內文 ### 懷念黨主席吳敦義。（中央社）<BR>更...       []  \n64          ▲仁愛鄉建設課長盡忠職守 ### 省略內文 ### 公所也會全力協助家屬處理後事。       []  \n65          苗栗縣一群外籍配偶向本報投訴 ### 省略內文 ### 才能認定是否涉及刑事刑責。  ['朱小蓉']  \n66  0台股台股盤勢【華冠投顧】5G族群稍有轉弱持續注意族群連動狀況華冠投顧※來源：華冠投顧201...       []  \n67  動工又停工再推動復工！台中市神岡區浮圳路拓寬工程在前市長胡志強時代動工 ### 省略內文 #...       []  \n68  2019.12.23 03:35中國景氣低迷馬雲：1天接5通借錢電話1週10個朋友賣樓文｜朱...       []  \n69              10月25日是世界麵食日 ### 省略內文 ### 尤其適合怕胖的人食用。       []  ",
      "text/html": "<div>\n<style scoped>\n    .dataframe tbody tr th:only-of-type {\n        vertical-align: middle;\n    }\n\n    .dataframe tbody tr th {\n        vertical-align: top;\n    }\n\n    .dataframe thead th {\n        text-align: right;\n    }\n</style>\n<table border=\"1\" class=\"dataframe\">\n  <thead>\n    <tr style=\"text-align: right;\">\n      <th></th>\n      <th>news_ID</th>\n      <th>hyperlink</th>\n      <th>content</th>\n      <th>name</th>\n    </tr>\n  </thead>\n  <tbody>\n    <tr>\n      <th>60</th>\n      <td>61</td>\n      <td>https://sina.com.hk/news/article/20190919/1/11...</td>\n      <td>原標題：龐大董事換血 ### 省略內文 ### 增持計劃不設價格區間。新京報記者王琳琳圖片來...</td>\n      <td>[]</td>\n    </tr>\n    <tr>\n      <th>61</th>\n      <td>62</td>\n      <td>https://udn.com/news/story/7238/4250717</td>\n      <td>台北市長柯文哲(柯P)的母親(柯媽)今天(26)日下午表示 ### 省略內文 ### 一起挺...</td>\n      <td>[]</td>\n    </tr>\n    <tr>\n      <th>62</th>\n      <td>63</td>\n      <td>https://m.ctee.com.tw/livenews/lm/ctee/a076720...</td>\n      <td>2019年區議會選舉24日舉行 ### 省略內文 ### 投票人數亦創回歸以來新高。</td>\n      <td>[]</td>\n    </tr>\n    <tr>\n      <th>63</th>\n      <td>64</td>\n      <td>https://news.tvbs.com.tw/politics/1254204</td>\n      <td>國民黨今天再打民進黨網軍案 ### 省略內文 ### 懷念黨主席吳敦義。（中央社）&lt;BR&gt;更...</td>\n      <td>[]</td>\n    </tr>\n    <tr>\n      <th>64</th>\n      <td>65</td>\n      <td>https://www.ettoday.net/amp/amp_news.php?news_...</td>\n      <td>▲仁愛鄉建設課長盡忠職守 ### 省略內文 ### 公所也會全力協助家屬處理後事。</td>\n      <td>[]</td>\n    </tr>\n    <tr>\n      <th>65</th>\n      <td>66</td>\n      <td>https://news.ltn.com.tw/news/society/paper/131...</td>\n      <td>苗栗縣一群外籍配偶向本報投訴 ### 省略內文 ### 才能認定是否涉及刑事刑責。</td>\n      <td>['朱小蓉']</td>\n    </tr>\n    <tr>\n      <th>66</th>\n      <td>67</td>\n      <td>https://news.cnyes.com/news/id/4366465</td>\n      <td>0台股台股盤勢【華冠投顧】5G族群稍有轉弱持續注意族群連動狀況華冠投顧※來源：華冠投顧201...</td>\n      <td>[]</td>\n    </tr>\n    <tr>\n      <th>67</th>\n      <td>68</td>\n      <td>https://m.ctee.com.tw/livenews/ch/chinatimes/2...</td>\n      <td>動工又停工再推動復工！台中市神岡區浮圳路拓寬工程在前市長胡志強時代動工 ### 省略內文 #...</td>\n      <td>[]</td>\n    </tr>\n    <tr>\n      <th>68</th>\n      <td>69</td>\n      <td>https://www.mirrormedia.mg/story/20191223web003/</td>\n      <td>2019.12.23 03:35中國景氣低迷馬雲：1天接5通借錢電話1週10個朋友賣樓文｜朱...</td>\n      <td>[]</td>\n    </tr>\n    <tr>\n      <th>69</th>\n      <td>70</td>\n      <td>https://udn.com/news/story/6812/4126842</td>\n      <td>10月25日是世界麵食日 ### 省略內文 ### 尤其適合怕胖的人食用。</td>\n      <td>[]</td>\n    </tr>\n  </tbody>\n</table>\n</div>"
     },
     "metadata": {},
     "execution_count": 3
    }
   ],
   "source": [
    "df[60:70]"
   ]
  },
  {
   "cell_type": "code",
   "execution_count": 4,
   "metadata": {
    "tags": []
   },
   "outputs": [
    {
     "output_type": "execute_result",
     "data": {
      "text/plain": "array(['ccc.technews.tw', 'domestic.judicial.gov.tw', 'ec.ltn.com.tw',\n       'ent.ltn.com.tw', 'estate.ltn.com.tw', 'finance.technews.tw',\n       'hk.on.cc', 'house.ettoday.net', 'm.ctee.com.tw', 'm.ltn.com.tw',\n       'money.udn.com', 'mops.twse.com.tw', 'news.cnyes.com',\n       'news.ebc.net.tw', 'news.ltn.com.tw', 'news.mingpao.com',\n       'news.tvbs.com.tw', 'ol.mingpao.com', 'sina.com.hk', 'technews.tw',\n       'tw.news.yahoo.com', 'udn.com', 'www.bnext.com.tw',\n       'www.businesstoday.com.tw', 'www.chinatimes.com', 'www.cna.com.tw',\n       'www.coolloud.org.tw', 'www.cw.com.tw', 'www.ettoday.net',\n       'www.fsc.gov.tw', 'www.hbrtaiwan.com', 'www.hk01.com',\n       'www.managertoday.com.tw', 'www.mirrormedia.mg',\n       'www.nextmag.com.tw', 'www.nownews.com', 'www.setn.com',\n       'www.storm.mg', 'www.wealth.com.tw'], dtype=object)"
     },
     "metadata": {},
     "execution_count": 4
    }
   ],
   "source": [
    "# 取出網站種類\n",
    "webKind = df[\"hyperlink\"].str.split('/').str.get(2)\n",
    "webKind = np.unique(webKind)\n",
    "webKind"
   ]
  },
  {
   "cell_type": "code",
   "execution_count": 5,
   "metadata": {
    "tags": []
   },
   "outputs": [
    {
     "output_type": "stream",
     "name": "stdout",
     "text": "url : https://news.cnyes.com/news/id/4352432 \ncategory : news.cnyes.com \ncontext : (0, 0, 0)\n"
    }
   ],
   "source": [
    "# 單獨測試\n",
    "index = 0\n",
    "url = df[\"hyperlink\"][index]\n",
    "category = getWebsiteCategory(url)\n",
    "context = getContext(category, url) \n",
    "print(\"url :\", url, \"\\ncategory :\", category, \"\\ncontext :\", context)"
   ]
  },
  {
   "cell_type": "code",
   "execution_count": 6,
   "metadata": {},
   "outputs": [],
   "source": [
    "soup = getSoup(url)"
   ]
  },
  {
   "cell_type": "code",
   "execution_count": null,
   "metadata": {},
   "outputs": [],
   "source": []
  }
 ],
 "metadata": {
  "language_info": {
   "codemirror_mode": {
    "name": "ipython",
    "version": 3
   },
   "file_extension": ".py",
   "mimetype": "text/x-python",
   "name": "python",
   "nbconvert_exporter": "python",
   "pygments_lexer": "ipython3",
   "version": "3.7.4-final"
  },
  "orig_nbformat": 2,
  "kernelspec": {
   "name": "python_defaultSpec_1593318599457",
   "display_name": "Python 3.7.3 64-bit ('base': conda)"
  }
 },
 "nbformat": 4,
 "nbformat_minor": 2
}