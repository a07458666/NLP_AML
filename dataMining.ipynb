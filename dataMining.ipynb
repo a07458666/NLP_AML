{
 "cells": [
  {
   "cell_type": "code",
   "execution_count": 37,
   "metadata": {},
   "outputs": [],
   "source": [
    "import numpy as np\n",
    "import pandas as pd\n",
    "from Utils import *\n",
    "import re\n",
    "from tqdm import tqdm\n",
    "#crawler\n",
    "import requests\n",
    "from bs4 import BeautifulSoup"
   ]
  },
  {
   "cell_type": "code",
   "execution_count": 2,
   "metadata": {},
   "outputs": [],
   "source": [
    "# 讀入官方的data\n",
    "df = pd.read_csv('./data/tbrain_train_final_0610.csv')  "
   ]
  },
  {
   "cell_type": "code",
   "execution_count": 3,
   "metadata": {
    "tags": []
   },
   "outputs": [
    {
     "output_type": "execute_result",
     "data": {
      "text/plain": "   news_ID                                          hyperlink  \\\n0        1             https://news.cnyes.com/news/id/4352432   \n1        2          https://udn.com/news/story/120775/4112519   \n2        3   https://www.mirrormedia.mg/story/20191008soc011/   \n3        4  https://www.chinatimes.com/realtimenews/201909...   \n4        5  http://domestic.judicial.gov.tw/abbs/wkw/WHD9H...   \n5        6              http://www.coolloud.org.tw/node/93356   \n6        7  https://m.ctee.com.tw/livenews/gj/ctee/a076720...   \n7        8   https://www.mirrormedia.mg/story/20191209edi009/   \n8        9  https://www.chinatimes.com/newspapers/20190827...   \n9       10             https://news.cnyes.com/news/id/4365094   \n\n                                             content name  \n0  0理財基金量化交易追求絕對報酬有效對抗牛熊市鉅亨網記者鄭心芸2019/07/05 22:35...   []  \n1  10月13日晚間發生Uber Eats黃姓外送人員職災死亡案件 ### 省略內文 ### 北...   []  \n2  2019.10.08 01:53【法拍有詭4】飯店遭管委會斷水斷電員工怒吼：生計何去何從？文...   []  \n3  58歲林姓男子昨凌晨與朋友聚餐結束後 ### 省略內文 ### 而地點就距離林家僅30公尺。...   []  \n4  例稿名稱：臺灣屏東地方法院公示催告公告發文日期：中華民國108年9月20日發文字號：屏院進家...   []  \n5  內政部都市計畫委員會委員為審查大社工業區是否降為乙種工業區 ### 省略內文 ### 市區拒...   []  \n6  華為創辦人任正非接受英國媒體訪問時表示 ### 省略內文 ### 重申中國和加拿大兩國之間的...   []  \n7  2019.12.09 08:00「再教育營學員全已結業」新疆自治區主席：他們過上了幸福生活文...   []  \n8           交通部觀光局26日公布7月國際旅客情況 ### 省略內文 ### 只能長期培養。   []  \n9  0理財基金基金汰弱留強該怎麼做？鉅亨買基金2019/08/06 21:30facebook ...   []  ",
      "text/html": "<div>\n<style scoped>\n    .dataframe tbody tr th:only-of-type {\n        vertical-align: middle;\n    }\n\n    .dataframe tbody tr th {\n        vertical-align: top;\n    }\n\n    .dataframe thead th {\n        text-align: right;\n    }\n</style>\n<table border=\"1\" class=\"dataframe\">\n  <thead>\n    <tr style=\"text-align: right;\">\n      <th></th>\n      <th>news_ID</th>\n      <th>hyperlink</th>\n      <th>content</th>\n      <th>name</th>\n    </tr>\n  </thead>\n  <tbody>\n    <tr>\n      <th>0</th>\n      <td>1</td>\n      <td>https://news.cnyes.com/news/id/4352432</td>\n      <td>0理財基金量化交易追求絕對報酬有效對抗牛熊市鉅亨網記者鄭心芸2019/07/05 22:35...</td>\n      <td>[]</td>\n    </tr>\n    <tr>\n      <th>1</th>\n      <td>2</td>\n      <td>https://udn.com/news/story/120775/4112519</td>\n      <td>10月13日晚間發生Uber Eats黃姓外送人員職災死亡案件 ### 省略內文 ### 北...</td>\n      <td>[]</td>\n    </tr>\n    <tr>\n      <th>2</th>\n      <td>3</td>\n      <td>https://www.mirrormedia.mg/story/20191008soc011/</td>\n      <td>2019.10.08 01:53【法拍有詭4】飯店遭管委會斷水斷電員工怒吼：生計何去何從？文...</td>\n      <td>[]</td>\n    </tr>\n    <tr>\n      <th>3</th>\n      <td>4</td>\n      <td>https://www.chinatimes.com/realtimenews/201909...</td>\n      <td>58歲林姓男子昨凌晨與朋友聚餐結束後 ### 省略內文 ### 而地點就距離林家僅30公尺。...</td>\n      <td>[]</td>\n    </tr>\n    <tr>\n      <th>4</th>\n      <td>5</td>\n      <td>http://domestic.judicial.gov.tw/abbs/wkw/WHD9H...</td>\n      <td>例稿名稱：臺灣屏東地方法院公示催告公告發文日期：中華民國108年9月20日發文字號：屏院進家...</td>\n      <td>[]</td>\n    </tr>\n    <tr>\n      <th>5</th>\n      <td>6</td>\n      <td>http://www.coolloud.org.tw/node/93356</td>\n      <td>內政部都市計畫委員會委員為審查大社工業區是否降為乙種工業區 ### 省略內文 ### 市區拒...</td>\n      <td>[]</td>\n    </tr>\n    <tr>\n      <th>6</th>\n      <td>7</td>\n      <td>https://m.ctee.com.tw/livenews/gj/ctee/a076720...</td>\n      <td>華為創辦人任正非接受英國媒體訪問時表示 ### 省略內文 ### 重申中國和加拿大兩國之間的...</td>\n      <td>[]</td>\n    </tr>\n    <tr>\n      <th>7</th>\n      <td>8</td>\n      <td>https://www.mirrormedia.mg/story/20191209edi009/</td>\n      <td>2019.12.09 08:00「再教育營學員全已結業」新疆自治區主席：他們過上了幸福生活文...</td>\n      <td>[]</td>\n    </tr>\n    <tr>\n      <th>8</th>\n      <td>9</td>\n      <td>https://www.chinatimes.com/newspapers/20190827...</td>\n      <td>交通部觀光局26日公布7月國際旅客情況 ### 省略內文 ### 只能長期培養。</td>\n      <td>[]</td>\n    </tr>\n    <tr>\n      <th>9</th>\n      <td>10</td>\n      <td>https://news.cnyes.com/news/id/4365094</td>\n      <td>0理財基金基金汰弱留強該怎麼做？鉅亨買基金2019/08/06 21:30facebook ...</td>\n      <td>[]</td>\n    </tr>\n  </tbody>\n</table>\n</div>"
     },
     "metadata": {},
     "execution_count": 3
    }
   ],
   "source": [
    "df[0:10]"
   ]
  },
  {
   "cell_type": "code",
   "execution_count": 4,
   "metadata": {
    "tags": []
   },
   "outputs": [
    {
     "output_type": "execute_result",
     "data": {
      "text/plain": "array(['ccc.technews.tw', 'domestic.judicial.gov.tw', 'ec.ltn.com.tw',\n       'ent.ltn.com.tw', 'estate.ltn.com.tw', 'finance.technews.tw',\n       'hk.on.cc', 'house.ettoday.net', 'm.ctee.com.tw', 'm.ltn.com.tw',\n       'money.udn.com', 'mops.twse.com.tw', 'news.cnyes.com',\n       'news.ebc.net.tw', 'news.ltn.com.tw', 'news.mingpao.com',\n       'news.tvbs.com.tw', 'ol.mingpao.com', 'sina.com.hk', 'technews.tw',\n       'tw.news.yahoo.com', 'udn.com', 'www.bnext.com.tw',\n       'www.businesstoday.com.tw', 'www.chinatimes.com', 'www.cna.com.tw',\n       'www.coolloud.org.tw', 'www.cw.com.tw', 'www.ettoday.net',\n       'www.fsc.gov.tw', 'www.hbrtaiwan.com', 'www.hk01.com',\n       'www.managertoday.com.tw', 'www.mirrormedia.mg',\n       'www.nextmag.com.tw', 'www.nownews.com', 'www.setn.com',\n       'www.storm.mg', 'www.wealth.com.tw'], dtype=object)"
     },
     "metadata": {},
     "execution_count": 4
    }
   ],
   "source": [
    "# 取出網站種類\n",
    "webKind = df[\"hyperlink\"].str.split('/').str.get(2)\n",
    "webKind = np.unique(webKind)\n",
    "webKind"
   ]
  },
  {
   "cell_type": "code",
   "execution_count": 5,
   "metadata": {
    "tags": []
   },
   "outputs": [
    {
     "output_type": "stream",
     "name": "stdout",
     "text": "url : https://www.mirrormedia.mg/story/20191008soc011/ \ncategory : www.mirrormedia.mg \ncontext : 0\n"
    }
   ],
   "source": [
    "# 單獨測試\n",
    "index = 2\n",
    "url = df[\"hyperlink\"][index]\n",
    "category = getWebsiteCategory(url)\n",
    "#context = getContext(category, url) \n",
    "context  = 0\n",
    "print(\"url :\", url, \"\\ncategory :\", category, \"\\ncontext :\", context)"
   ]
  },
  {
   "cell_type": "code",
   "execution_count": 46,
   "metadata": {
    "tags": []
   },
   "outputs": [],
   "source": [
    "def getContext(url):\n",
    "    print(\"==========================\")\n",
    "    print(\"getContext url: \", url)\n",
    "    soup, status_code = getSoup(url)\n",
    "    contextStr = \"\"\n",
    "    if status_code != 200:\n",
    "        print(\"status_code: \", status_code, \"url: \", url)\n",
    "        contextStr = str(status_code)\n",
    "    else:\n",
    "        data = soup.find_all('p')\n",
    "        for context in data:\n",
    "            #print(context.text)\n",
    "            contextStr += context.text\n",
    "    return contextStr"
   ]
  },
  {
   "cell_type": "code",
   "execution_count": 47,
   "metadata": {
    "tags": []
   },
   "outputs": [
    {
     "output_type": "stream",
     "name": "stdout",
     "text": "==========================\ngetContext url:  https://news.cnyes.com/news/id/4365094\n"
    }
   ],
   "source": [
    "context = getContext(url)"
   ]
  },
  {
   "cell_type": "code",
   "execution_count": 57,
   "metadata": {},
   "outputs": [],
   "source": [
    "df_addContext = df.copy()"
   ]
  },
  {
   "cell_type": "code",
   "execution_count": 55,
   "metadata": {
    "tags": []
   },
   "outputs": [
    {
     "output_type": "stream",
     "name": "stderr",
     "text": "0%|          | 0/10 [00:00<?, ?it/s]==========================\ngetContext url:  https://news.cnyes.com/news/id/4352432\n 10%|█         | 1/10 [00:00<00:06,  1.50it/s]==========================\ngetContext url:  https://udn.com/news/story/120775/4112519\n\n"
    },
    {
     "output_type": "error",
     "ename": "ValueError",
     "evalue": "cannot insert contextCrawler, already exists",
     "traceback": [
      "\u001b[0;31m---------------------------------------------------------------------------\u001b[0m",
      "\u001b[0;31mValueError\u001b[0m                                Traceback (most recent call last)",
      "\u001b[0;32m<ipython-input-55-0d06f2d148e9>\u001b[0m in \u001b[0;36m<module>\u001b[0;34m\u001b[0m\n\u001b[1;32m      6\u001b[0m     \u001b[0mcontext\u001b[0m \u001b[0;34m=\u001b[0m \u001b[0mgetContext\u001b[0m\u001b[0;34m(\u001b[0m\u001b[0murl\u001b[0m\u001b[0;34m)\u001b[0m\u001b[0;34m\u001b[0m\u001b[0;34m\u001b[0m\u001b[0m\n\u001b[1;32m      7\u001b[0m     \u001b[0mcontextList\u001b[0m\u001b[0;34m.\u001b[0m\u001b[0mappend\u001b[0m\u001b[0;34m(\u001b[0m\u001b[0mcontext\u001b[0m\u001b[0;34m)\u001b[0m\u001b[0;34m\u001b[0m\u001b[0;34m\u001b[0m\u001b[0m\n\u001b[0;32m----> 8\u001b[0;31m     \u001b[0mdf_addContext\u001b[0m\u001b[0;34m.\u001b[0m\u001b[0minsert\u001b[0m\u001b[0;34m(\u001b[0m\u001b[0mindex\u001b[0m\u001b[0;34m,\u001b[0m \u001b[0;34m\"contextCrawler\"\u001b[0m\u001b[0;34m,\u001b[0m \u001b[0mcontext\u001b[0m\u001b[0;34m)\u001b[0m\u001b[0;34m\u001b[0m\u001b[0;34m\u001b[0m\u001b[0m\n\u001b[0m\u001b[1;32m      9\u001b[0m \u001b[0mdf_addContext\u001b[0m\u001b[0;34m[\u001b[0m\u001b[0;34m:\u001b[0m\u001b[0;36m20\u001b[0m\u001b[0;34m]\u001b[0m\u001b[0;34m\u001b[0m\u001b[0;34m\u001b[0m\u001b[0m\n\u001b[1;32m     10\u001b[0m \u001b[0;31m#df_addContext['contextCrawler'] = contextList\u001b[0m\u001b[0;34m\u001b[0m\u001b[0;34m\u001b[0m\u001b[0;34m\u001b[0m\u001b[0m\n",
      "\u001b[0;32m~/anaconda3/lib/python3.7/site-packages/pandas/core/frame.py\u001b[0m in \u001b[0;36minsert\u001b[0;34m(self, loc, column, value, allow_duplicates)\u001b[0m\n\u001b[1;32m   3471\u001b[0m         \u001b[0mvalue\u001b[0m \u001b[0;34m=\u001b[0m \u001b[0mself\u001b[0m\u001b[0;34m.\u001b[0m\u001b[0m_sanitize_column\u001b[0m\u001b[0;34m(\u001b[0m\u001b[0mcolumn\u001b[0m\u001b[0;34m,\u001b[0m \u001b[0mvalue\u001b[0m\u001b[0;34m,\u001b[0m \u001b[0mbroadcast\u001b[0m\u001b[0;34m=\u001b[0m\u001b[0;32mFalse\u001b[0m\u001b[0;34m)\u001b[0m\u001b[0;34m\u001b[0m\u001b[0;34m\u001b[0m\u001b[0m\n\u001b[1;32m   3472\u001b[0m         self._data.insert(loc, column, value,\n\u001b[0;32m-> 3473\u001b[0;31m                           allow_duplicates=allow_duplicates)\n\u001b[0m\u001b[1;32m   3474\u001b[0m \u001b[0;34m\u001b[0m\u001b[0m\n\u001b[1;32m   3475\u001b[0m     \u001b[0;32mdef\u001b[0m \u001b[0massign\u001b[0m\u001b[0;34m(\u001b[0m\u001b[0mself\u001b[0m\u001b[0;34m,\u001b[0m \u001b[0;34m**\u001b[0m\u001b[0mkwargs\u001b[0m\u001b[0;34m)\u001b[0m\u001b[0;34m:\u001b[0m\u001b[0;34m\u001b[0m\u001b[0;34m\u001b[0m\u001b[0m\n",
      "\u001b[0;32m~/anaconda3/lib/python3.7/site-packages/pandas/core/internals/managers.py\u001b[0m in \u001b[0;36minsert\u001b[0;34m(self, loc, item, value, allow_duplicates)\u001b[0m\n\u001b[1;32m   1147\u001b[0m         \u001b[0;32mif\u001b[0m \u001b[0;32mnot\u001b[0m \u001b[0mallow_duplicates\u001b[0m \u001b[0;32mand\u001b[0m \u001b[0mitem\u001b[0m \u001b[0;32min\u001b[0m \u001b[0mself\u001b[0m\u001b[0;34m.\u001b[0m\u001b[0mitems\u001b[0m\u001b[0;34m:\u001b[0m\u001b[0;34m\u001b[0m\u001b[0;34m\u001b[0m\u001b[0m\n\u001b[1;32m   1148\u001b[0m             \u001b[0;31m# Should this be a different kind of error??\u001b[0m\u001b[0;34m\u001b[0m\u001b[0;34m\u001b[0m\u001b[0;34m\u001b[0m\u001b[0m\n\u001b[0;32m-> 1149\u001b[0;31m             \u001b[0;32mraise\u001b[0m \u001b[0mValueError\u001b[0m\u001b[0;34m(\u001b[0m\u001b[0;34m'cannot insert {}, already exists'\u001b[0m\u001b[0;34m.\u001b[0m\u001b[0mformat\u001b[0m\u001b[0;34m(\u001b[0m\u001b[0mitem\u001b[0m\u001b[0;34m)\u001b[0m\u001b[0;34m)\u001b[0m\u001b[0;34m\u001b[0m\u001b[0;34m\u001b[0m\u001b[0m\n\u001b[0m\u001b[1;32m   1150\u001b[0m \u001b[0;34m\u001b[0m\u001b[0m\n\u001b[1;32m   1151\u001b[0m         \u001b[0;32mif\u001b[0m \u001b[0;32mnot\u001b[0m \u001b[0misinstance\u001b[0m\u001b[0;34m(\u001b[0m\u001b[0mloc\u001b[0m\u001b[0;34m,\u001b[0m \u001b[0mint\u001b[0m\u001b[0;34m)\u001b[0m\u001b[0;34m:\u001b[0m\u001b[0;34m\u001b[0m\u001b[0;34m\u001b[0m\u001b[0m\n",
      "\u001b[0;31mValueError\u001b[0m: cannot insert contextCrawler, already exists"
     ]
    }
   ],
   "source": [
    "# 原本想用lambda 不過這樣爬蟲會爬太快\n",
    "#df_addContext['contextCrawler'] = df_addContext['hyperlink'].apply(lambda x: getContext(x))\n",
    "contextList = []\n",
    "hyperlinkList = df_addContext['hyperlink']\n",
    "for index, url in enumerate(tqdm(hyperlinkList)):\n",
    "    context = getContext(url)\n",
    "    contextList.append(context)\n",
    "df_addContext.insert(-1, \"contextCrawler\", contextList) "
   ]
  },
  {
   "cell_type": "code",
   "execution_count": 56,
   "metadata": {},
   "outputs": [
    {
     "output_type": "execute_result",
     "data": {
      "text/plain": "                                       contextCrawler  news_ID  \\\n0   熱搜：熱門行情最近搜尋基金老司機近年來投資市場波動越來越明顯，追求低波動、絕對報酬的量化交易...        1   \n1   熱搜：熱門行情最近搜尋基金老司機近年來投資市場波動越來越明顯，追求低波動、絕對報酬的量化交易...        2   \n2   熱搜：熱門行情最近搜尋基金老司機近年來投資市場波動越來越明顯，追求低波動、絕對報酬的量化交易...        3   \n3   熱搜：熱門行情最近搜尋基金老司機近年來投資市場波動越來越明顯，追求低波動、絕對報酬的量化交易...        4   \n4   熱搜：熱門行情最近搜尋基金老司機近年來投資市場波動越來越明顯，追求低波動、絕對報酬的量化交易...        5   \n5   熱搜：熱門行情最近搜尋基金老司機近年來投資市場波動越來越明顯，追求低波動、絕對報酬的量化交易...        6   \n6   熱搜：熱門行情最近搜尋基金老司機近年來投資市場波動越來越明顯，追求低波動、絕對報酬的量化交易...        7   \n7   熱搜：熱門行情最近搜尋基金老司機近年來投資市場波動越來越明顯，追求低波動、絕對報酬的量化交易...        8   \n8   熱搜：熱門行情最近搜尋基金老司機近年來投資市場波動越來越明顯，追求低波動、絕對報酬的量化交易...        9   \n9   熱搜：熱門行情最近搜尋基金老司機近年來投資市場波動越來越明顯，追求低波動、絕對報酬的量化交易...       10   \n10  熱搜：熱門行情最近搜尋基金老司機近年來投資市場波動越來越明顯，追求低波動、絕對報酬的量化交易...       11   \n11  熱搜：熱門行情最近搜尋基金老司機近年來投資市場波動越來越明顯，追求低波動、絕對報酬的量化交易...       12   \n12  熱搜：熱門行情最近搜尋基金老司機近年來投資市場波動越來越明顯，追求低波動、絕對報酬的量化交易...       13   \n13  熱搜：熱門行情最近搜尋基金老司機近年來投資市場波動越來越明顯，追求低波動、絕對報酬的量化交易...       14   \n14  熱搜：熱門行情最近搜尋基金老司機近年來投資市場波動越來越明顯，追求低波動、絕對報酬的量化交易...       15   \n15  熱搜：熱門行情最近搜尋基金老司機近年來投資市場波動越來越明顯，追求低波動、絕對報酬的量化交易...       16   \n16  熱搜：熱門行情最近搜尋基金老司機近年來投資市場波動越來越明顯，追求低波動、絕對報酬的量化交易...       17   \n17  熱搜：熱門行情最近搜尋基金老司機近年來投資市場波動越來越明顯，追求低波動、絕對報酬的量化交易...       18   \n18  熱搜：熱門行情最近搜尋基金老司機近年來投資市場波動越來越明顯，追求低波動、絕對報酬的量化交易...       19   \n19  熱搜：熱門行情最近搜尋基金老司機近年來投資市場波動越來越明顯，追求低波動、絕對報酬的量化交易...       20   \n\n                                            hyperlink  \\\n0              https://news.cnyes.com/news/id/4352432   \n1           https://udn.com/news/story/120775/4112519   \n2    https://www.mirrormedia.mg/story/20191008soc011/   \n3   https://www.chinatimes.com/realtimenews/201909...   \n4   http://domestic.judicial.gov.tw/abbs/wkw/WHD9H...   \n5               http://www.coolloud.org.tw/node/93356   \n6   https://m.ctee.com.tw/livenews/gj/ctee/a076720...   \n7    https://www.mirrormedia.mg/story/20191209edi009/   \n8   https://www.chinatimes.com/newspapers/20190827...   \n9              https://news.cnyes.com/news/id/4365094   \n10  https://mops.twse.com.tw/mops/web/t05st02?step...   \n11  https://www.hk01.com/社會新聞/383851/逃犯條例-建造業議會指立法...   \n12  https://www.chinatimes.com/newspapers/20191223...   \n13      https://www.wealth.com.tw/home/articles/22906   \n14            https://udn.com/news/story/7321/3845624   \n15  https://m.ctee.com.tw/livenews/ch/chinatimes/2...   \n16             https://news.cnyes.com/news/id/4361455   \n17        https://news.ebc.net.tw/News/Article/162125   \n18   https://www.mirrormedia.mg/story/20191219fin001/   \n19  https://news.mingpao.com/ins/%e6%b8%af%e8%81%9...   \n\n                                              content                   name  \n0   0理財基金量化交易追求絕對報酬有效對抗牛熊市鉅亨網記者鄭心芸2019/07/05 22:35...                     []  \n1   10月13日晚間發生Uber Eats黃姓外送人員職災死亡案件 ### 省略內文 ### 北...                     []  \n2   2019.10.08 01:53【法拍有詭4】飯店遭管委會斷水斷電員工怒吼：生計何去何從？文...                     []  \n3   58歲林姓男子昨凌晨與朋友聚餐結束後 ### 省略內文 ### 而地點就距離林家僅30公尺。...                     []  \n4   例稿名稱：臺灣屏東地方法院公示催告公告發文日期：中華民國108年9月20日發文字號：屏院進家...                     []  \n5   內政部都市計畫委員會委員為審查大社工業區是否降為乙種工業區 ### 省略內文 ### 市區拒...                     []  \n6   華為創辦人任正非接受英國媒體訪問時表示 ### 省略內文 ### 重申中國和加拿大兩國之間的...                     []  \n7   2019.12.09 08:00「再教育營學員全已結業」新疆自治區主席：他們過上了幸福生活文...                     []  \n8            交通部觀光局26日公布7月國際旅客情況 ### 省略內文 ### 只能長期培養。                     []  \n9   0理財基金基金汰弱留強該怎麼做？鉅亨買基金2019/08/06 21:30facebook ...                     []  \n10  上福全球公司當日重大訊息之詳細內容本資料由(上市公司)上福全球公司提供<BR>序號1發言日期...                     []  \n11  反修例風波持續 ### 省略內文 ### 亦憂慮前景。建造業議會促請立法會加快通過工務工程項...                     []  \n12                  2020貿易戰降溫 ### 省略內文 ### 配發順序優於普通股。                     []  \n13  ▲（圖／彭世杰攝）店面「遍地插秧」！陷入「賣不動 ### 省略內文 ### 因此日常開支總是...                     []  \n14  台北地院審理生產東亞燈具的上市公司中國電器掏空案 ### 省略內文 ### 掏空公司資產2億...  ['周麗真', '張志偉', '陳逢璿']  \n15        foodpanda爭議不斷 ### 省略內文 ### 協助員工進行勞資爭議申請與調解。                     []  \n16  0台股台股盤勢【倫元投顧】碎步盤堅到月底Fed降息前後倫元投顧※來源：倫元投顧2019/07...                     []  \n17                  自稱房產幽默大師的王派宏 ### 省略內文 ### 能夠盡早面對。                ['王派宏']  \n18  2019.12.19 04:34【如興遭檢舉1】牛仔褲大廠小股東控訴如興股價被干擾害他慘套牢...                     []  \n19  (08:32) prevnext上午8時天文台錄得氣溫27度 ### 省略內文 ### 天氣稍涼。                     []  ",
      "text/html": "<div>\n<style scoped>\n    .dataframe tbody tr th:only-of-type {\n        vertical-align: middle;\n    }\n\n    .dataframe tbody tr th {\n        vertical-align: top;\n    }\n\n    .dataframe thead th {\n        text-align: right;\n    }\n</style>\n<table border=\"1\" class=\"dataframe\">\n  <thead>\n    <tr style=\"text-align: right;\">\n      <th></th>\n      <th>contextCrawler</th>\n      <th>news_ID</th>\n      <th>hyperlink</th>\n      <th>content</th>\n      <th>name</th>\n    </tr>\n  </thead>\n  <tbody>\n    <tr>\n      <th>0</th>\n      <td>熱搜：熱門行情最近搜尋基金老司機近年來投資市場波動越來越明顯，追求低波動、絕對報酬的量化交易...</td>\n      <td>1</td>\n      <td>https://news.cnyes.com/news/id/4352432</td>\n      <td>0理財基金量化交易追求絕對報酬有效對抗牛熊市鉅亨網記者鄭心芸2019/07/05 22:35...</td>\n      <td>[]</td>\n    </tr>\n    <tr>\n      <th>1</th>\n      <td>熱搜：熱門行情最近搜尋基金老司機近年來投資市場波動越來越明顯，追求低波動、絕對報酬的量化交易...</td>\n      <td>2</td>\n      <td>https://udn.com/news/story/120775/4112519</td>\n      <td>10月13日晚間發生Uber Eats黃姓外送人員職災死亡案件 ### 省略內文 ### 北...</td>\n      <td>[]</td>\n    </tr>\n    <tr>\n      <th>2</th>\n      <td>熱搜：熱門行情最近搜尋基金老司機近年來投資市場波動越來越明顯，追求低波動、絕對報酬的量化交易...</td>\n      <td>3</td>\n      <td>https://www.mirrormedia.mg/story/20191008soc011/</td>\n      <td>2019.10.08 01:53【法拍有詭4】飯店遭管委會斷水斷電員工怒吼：生計何去何從？文...</td>\n      <td>[]</td>\n    </tr>\n    <tr>\n      <th>3</th>\n      <td>熱搜：熱門行情最近搜尋基金老司機近年來投資市場波動越來越明顯，追求低波動、絕對報酬的量化交易...</td>\n      <td>4</td>\n      <td>https://www.chinatimes.com/realtimenews/201909...</td>\n      <td>58歲林姓男子昨凌晨與朋友聚餐結束後 ### 省略內文 ### 而地點就距離林家僅30公尺。...</td>\n      <td>[]</td>\n    </tr>\n    <tr>\n      <th>4</th>\n      <td>熱搜：熱門行情最近搜尋基金老司機近年來投資市場波動越來越明顯，追求低波動、絕對報酬的量化交易...</td>\n      <td>5</td>\n      <td>http://domestic.judicial.gov.tw/abbs/wkw/WHD9H...</td>\n      <td>例稿名稱：臺灣屏東地方法院公示催告公告發文日期：中華民國108年9月20日發文字號：屏院進家...</td>\n      <td>[]</td>\n    </tr>\n    <tr>\n      <th>5</th>\n      <td>熱搜：熱門行情最近搜尋基金老司機近年來投資市場波動越來越明顯，追求低波動、絕對報酬的量化交易...</td>\n      <td>6</td>\n      <td>http://www.coolloud.org.tw/node/93356</td>\n      <td>內政部都市計畫委員會委員為審查大社工業區是否降為乙種工業區 ### 省略內文 ### 市區拒...</td>\n      <td>[]</td>\n    </tr>\n    <tr>\n      <th>6</th>\n      <td>熱搜：熱門行情最近搜尋基金老司機近年來投資市場波動越來越明顯，追求低波動、絕對報酬的量化交易...</td>\n      <td>7</td>\n      <td>https://m.ctee.com.tw/livenews/gj/ctee/a076720...</td>\n      <td>華為創辦人任正非接受英國媒體訪問時表示 ### 省略內文 ### 重申中國和加拿大兩國之間的...</td>\n      <td>[]</td>\n    </tr>\n    <tr>\n      <th>7</th>\n      <td>熱搜：熱門行情最近搜尋基金老司機近年來投資市場波動越來越明顯，追求低波動、絕對報酬的量化交易...</td>\n      <td>8</td>\n      <td>https://www.mirrormedia.mg/story/20191209edi009/</td>\n      <td>2019.12.09 08:00「再教育營學員全已結業」新疆自治區主席：他們過上了幸福生活文...</td>\n      <td>[]</td>\n    </tr>\n    <tr>\n      <th>8</th>\n      <td>熱搜：熱門行情最近搜尋基金老司機近年來投資市場波動越來越明顯，追求低波動、絕對報酬的量化交易...</td>\n      <td>9</td>\n      <td>https://www.chinatimes.com/newspapers/20190827...</td>\n      <td>交通部觀光局26日公布7月國際旅客情況 ### 省略內文 ### 只能長期培養。</td>\n      <td>[]</td>\n    </tr>\n    <tr>\n      <th>9</th>\n      <td>熱搜：熱門行情最近搜尋基金老司機近年來投資市場波動越來越明顯，追求低波動、絕對報酬的量化交易...</td>\n      <td>10</td>\n      <td>https://news.cnyes.com/news/id/4365094</td>\n      <td>0理財基金基金汰弱留強該怎麼做？鉅亨買基金2019/08/06 21:30facebook ...</td>\n      <td>[]</td>\n    </tr>\n    <tr>\n      <th>10</th>\n      <td>熱搜：熱門行情最近搜尋基金老司機近年來投資市場波動越來越明顯，追求低波動、絕對報酬的量化交易...</td>\n      <td>11</td>\n      <td>https://mops.twse.com.tw/mops/web/t05st02?step...</td>\n      <td>上福全球公司當日重大訊息之詳細內容本資料由(上市公司)上福全球公司提供&lt;BR&gt;序號1發言日期...</td>\n      <td>[]</td>\n    </tr>\n    <tr>\n      <th>11</th>\n      <td>熱搜：熱門行情最近搜尋基金老司機近年來投資市場波動越來越明顯，追求低波動、絕對報酬的量化交易...</td>\n      <td>12</td>\n      <td>https://www.hk01.com/社會新聞/383851/逃犯條例-建造業議會指立法...</td>\n      <td>反修例風波持續 ### 省略內文 ### 亦憂慮前景。建造業議會促請立法會加快通過工務工程項...</td>\n      <td>[]</td>\n    </tr>\n    <tr>\n      <th>12</th>\n      <td>熱搜：熱門行情最近搜尋基金老司機近年來投資市場波動越來越明顯，追求低波動、絕對報酬的量化交易...</td>\n      <td>13</td>\n      <td>https://www.chinatimes.com/newspapers/20191223...</td>\n      <td>2020貿易戰降溫 ### 省略內文 ### 配發順序優於普通股。</td>\n      <td>[]</td>\n    </tr>\n    <tr>\n      <th>13</th>\n      <td>熱搜：熱門行情最近搜尋基金老司機近年來投資市場波動越來越明顯，追求低波動、絕對報酬的量化交易...</td>\n      <td>14</td>\n      <td>https://www.wealth.com.tw/home/articles/22906</td>\n      <td>▲（圖／彭世杰攝）店面「遍地插秧」！陷入「賣不動 ### 省略內文 ### 因此日常開支總是...</td>\n      <td>[]</td>\n    </tr>\n    <tr>\n      <th>14</th>\n      <td>熱搜：熱門行情最近搜尋基金老司機近年來投資市場波動越來越明顯，追求低波動、絕對報酬的量化交易...</td>\n      <td>15</td>\n      <td>https://udn.com/news/story/7321/3845624</td>\n      <td>台北地院審理生產東亞燈具的上市公司中國電器掏空案 ### 省略內文 ### 掏空公司資產2億...</td>\n      <td>['周麗真', '張志偉', '陳逢璿']</td>\n    </tr>\n    <tr>\n      <th>15</th>\n      <td>熱搜：熱門行情最近搜尋基金老司機近年來投資市場波動越來越明顯，追求低波動、絕對報酬的量化交易...</td>\n      <td>16</td>\n      <td>https://m.ctee.com.tw/livenews/ch/chinatimes/2...</td>\n      <td>foodpanda爭議不斷 ### 省略內文 ### 協助員工進行勞資爭議申請與調解。</td>\n      <td>[]</td>\n    </tr>\n    <tr>\n      <th>16</th>\n      <td>熱搜：熱門行情最近搜尋基金老司機近年來投資市場波動越來越明顯，追求低波動、絕對報酬的量化交易...</td>\n      <td>17</td>\n      <td>https://news.cnyes.com/news/id/4361455</td>\n      <td>0台股台股盤勢【倫元投顧】碎步盤堅到月底Fed降息前後倫元投顧※來源：倫元投顧2019/07...</td>\n      <td>[]</td>\n    </tr>\n    <tr>\n      <th>17</th>\n      <td>熱搜：熱門行情最近搜尋基金老司機近年來投資市場波動越來越明顯，追求低波動、絕對報酬的量化交易...</td>\n      <td>18</td>\n      <td>https://news.ebc.net.tw/News/Article/162125</td>\n      <td>自稱房產幽默大師的王派宏 ### 省略內文 ### 能夠盡早面對。</td>\n      <td>['王派宏']</td>\n    </tr>\n    <tr>\n      <th>18</th>\n      <td>熱搜：熱門行情最近搜尋基金老司機近年來投資市場波動越來越明顯，追求低波動、絕對報酬的量化交易...</td>\n      <td>19</td>\n      <td>https://www.mirrormedia.mg/story/20191219fin001/</td>\n      <td>2019.12.19 04:34【如興遭檢舉1】牛仔褲大廠小股東控訴如興股價被干擾害他慘套牢...</td>\n      <td>[]</td>\n    </tr>\n    <tr>\n      <th>19</th>\n      <td>熱搜：熱門行情最近搜尋基金老司機近年來投資市場波動越來越明顯，追求低波動、絕對報酬的量化交易...</td>\n      <td>20</td>\n      <td>https://news.mingpao.com/ins/%e6%b8%af%e8%81%9...</td>\n      <td>(08:32) prevnext上午8時天文台錄得氣溫27度 ### 省略內文 ### 天氣稍涼。</td>\n      <td>[]</td>\n    </tr>\n  </tbody>\n</table>\n</div>"
     },
     "metadata": {},
     "execution_count": 56
    }
   ],
   "source": [
    "df_addContext[:20]\n",
    "dt.to_csv('./data/Result.csv')"
   ]
  },
  {
   "cell_type": "code",
   "execution_count": null,
   "metadata": {},
   "outputs": [],
   "source": []
  }
 ],
 "metadata": {
  "language_info": {
   "codemirror_mode": {
    "name": "ipython",
    "version": 3
   },
   "file_extension": ".py",
   "mimetype": "text/x-python",
   "name": "python",
   "nbconvert_exporter": "python",
   "pygments_lexer": "ipython3",
   "version": "3.7.4-final"
  },
  "orig_nbformat": 2,
  "kernelspec": {
   "name": "python_defaultSpec_1593318599457",
   "display_name": "Python 3.7.3 64-bit ('base': conda)"
  }
 },
 "nbformat": 4,
 "nbformat_minor": 2
}