{
 "cells": [
  {
   "cell_type": "code",
   "execution_count": 3,
   "metadata": {},
   "outputs": [],
   "source": [
    "import numpy as np\n",
    "import pandas as pd\n",
    "from Utils import *\n",
    "import re\n",
    "from tqdm import tqdm\n",
    "#crawler\n",
    "import requests\n",
    "from bs4 import BeautifulSoup"
   ]
  },
  {
   "cell_type": "code",
   "execution_count": 4,
   "metadata": {},
   "outputs": [],
   "source": [
    "# 讀入官方的data\n",
    "df = pd.read_csv('./data/tbrain_train_final_0610.csv')  "
   ]
  },
  {
   "cell_type": "code",
   "execution_count": 5,
   "metadata": {
    "tags": []
   },
   "outputs": [
    {
     "output_type": "execute_result",
     "data": {
      "text/plain": "   news_ID                                          hyperlink  \\\n0        1             https://news.cnyes.com/news/id/4352432   \n1        2          https://udn.com/news/story/120775/4112519   \n2        3   https://www.mirrormedia.mg/story/20191008soc011/   \n3        4  https://www.chinatimes.com/realtimenews/201909...   \n4        5  http://domestic.judicial.gov.tw/abbs/wkw/WHD9H...   \n5        6              http://www.coolloud.org.tw/node/93356   \n6        7  https://m.ctee.com.tw/livenews/gj/ctee/a076720...   \n7        8   https://www.mirrormedia.mg/story/20191209edi009/   \n8        9  https://www.chinatimes.com/newspapers/20190827...   \n9       10             https://news.cnyes.com/news/id/4365094   \n\n                                             content name  \n0  0理財基金量化交易追求絕對報酬有效對抗牛熊市鉅亨網記者鄭心芸2019/07/05 22:35...   []  \n1  10月13日晚間發生Uber Eats黃姓外送人員職災死亡案件 ### 省略內文 ### 北...   []  \n2  2019.10.08 01:53【法拍有詭4】飯店遭管委會斷水斷電員工怒吼：生計何去何從？文...   []  \n3  58歲林姓男子昨凌晨與朋友聚餐結束後 ### 省略內文 ### 而地點就距離林家僅30公尺。...   []  \n4  例稿名稱：臺灣屏東地方法院公示催告公告發文日期：中華民國108年9月20日發文字號：屏院進家...   []  \n5  內政部都市計畫委員會委員為審查大社工業區是否降為乙種工業區 ### 省略內文 ### 市區拒...   []  \n6  華為創辦人任正非接受英國媒體訪問時表示 ### 省略內文 ### 重申中國和加拿大兩國之間的...   []  \n7  2019.12.09 08:00「再教育營學員全已結業」新疆自治區主席：他們過上了幸福生活文...   []  \n8           交通部觀光局26日公布7月國際旅客情況 ### 省略內文 ### 只能長期培養。   []  \n9  0理財基金基金汰弱留強該怎麼做？鉅亨買基金2019/08/06 21:30facebook ...   []  ",
      "text/html": "<div>\n<style scoped>\n    .dataframe tbody tr th:only-of-type {\n        vertical-align: middle;\n    }\n\n    .dataframe tbody tr th {\n        vertical-align: top;\n    }\n\n    .dataframe thead th {\n        text-align: right;\n    }\n</style>\n<table border=\"1\" class=\"dataframe\">\n  <thead>\n    <tr style=\"text-align: right;\">\n      <th></th>\n      <th>news_ID</th>\n      <th>hyperlink</th>\n      <th>content</th>\n      <th>name</th>\n    </tr>\n  </thead>\n  <tbody>\n    <tr>\n      <th>0</th>\n      <td>1</td>\n      <td>https://news.cnyes.com/news/id/4352432</td>\n      <td>0理財基金量化交易追求絕對報酬有效對抗牛熊市鉅亨網記者鄭心芸2019/07/05 22:35...</td>\n      <td>[]</td>\n    </tr>\n    <tr>\n      <th>1</th>\n      <td>2</td>\n      <td>https://udn.com/news/story/120775/4112519</td>\n      <td>10月13日晚間發生Uber Eats黃姓外送人員職災死亡案件 ### 省略內文 ### 北...</td>\n      <td>[]</td>\n    </tr>\n    <tr>\n      <th>2</th>\n      <td>3</td>\n      <td>https://www.mirrormedia.mg/story/20191008soc011/</td>\n      <td>2019.10.08 01:53【法拍有詭4】飯店遭管委會斷水斷電員工怒吼：生計何去何從？文...</td>\n      <td>[]</td>\n    </tr>\n    <tr>\n      <th>3</th>\n      <td>4</td>\n      <td>https://www.chinatimes.com/realtimenews/201909...</td>\n      <td>58歲林姓男子昨凌晨與朋友聚餐結束後 ### 省略內文 ### 而地點就距離林家僅30公尺。...</td>\n      <td>[]</td>\n    </tr>\n    <tr>\n      <th>4</th>\n      <td>5</td>\n      <td>http://domestic.judicial.gov.tw/abbs/wkw/WHD9H...</td>\n      <td>例稿名稱：臺灣屏東地方法院公示催告公告發文日期：中華民國108年9月20日發文字號：屏院進家...</td>\n      <td>[]</td>\n    </tr>\n    <tr>\n      <th>5</th>\n      <td>6</td>\n      <td>http://www.coolloud.org.tw/node/93356</td>\n      <td>內政部都市計畫委員會委員為審查大社工業區是否降為乙種工業區 ### 省略內文 ### 市區拒...</td>\n      <td>[]</td>\n    </tr>\n    <tr>\n      <th>6</th>\n      <td>7</td>\n      <td>https://m.ctee.com.tw/livenews/gj/ctee/a076720...</td>\n      <td>華為創辦人任正非接受英國媒體訪問時表示 ### 省略內文 ### 重申中國和加拿大兩國之間的...</td>\n      <td>[]</td>\n    </tr>\n    <tr>\n      <th>7</th>\n      <td>8</td>\n      <td>https://www.mirrormedia.mg/story/20191209edi009/</td>\n      <td>2019.12.09 08:00「再教育營學員全已結業」新疆自治區主席：他們過上了幸福生活文...</td>\n      <td>[]</td>\n    </tr>\n    <tr>\n      <th>8</th>\n      <td>9</td>\n      <td>https://www.chinatimes.com/newspapers/20190827...</td>\n      <td>交通部觀光局26日公布7月國際旅客情況 ### 省略內文 ### 只能長期培養。</td>\n      <td>[]</td>\n    </tr>\n    <tr>\n      <th>9</th>\n      <td>10</td>\n      <td>https://news.cnyes.com/news/id/4365094</td>\n      <td>0理財基金基金汰弱留強該怎麼做？鉅亨買基金2019/08/06 21:30facebook ...</td>\n      <td>[]</td>\n    </tr>\n  </tbody>\n</table>\n</div>"
     },
     "metadata": {},
     "execution_count": 5
    }
   ],
   "source": [
    "df[0:10]"
   ]
  },
  {
   "cell_type": "code",
   "execution_count": 6,
   "metadata": {
    "tags": []
   },
   "outputs": [
    {
     "output_type": "execute_result",
     "data": {
      "text/plain": "                        name  counts\n0            ccc.technews.tw      10\n1   domestic.judicial.gov.tw      30\n2              ec.ltn.com.tw       6\n3             ent.ltn.com.tw       2\n4          estate.ltn.com.tw       1\n5        finance.technews.tw      56\n6                   hk.on.cc      57\n7          house.ettoday.net       1\n8              m.ctee.com.tw     530\n9               m.ltn.com.tw      12\n10             money.udn.com       8\n11          mops.twse.com.tw     273\n12            news.cnyes.com     709\n13           news.ebc.net.tw       1\n14           news.ltn.com.tw     332\n15          news.mingpao.com     379\n16          news.tvbs.com.tw     112\n17            ol.mingpao.com       4\n18               sina.com.hk      72\n19               technews.tw     128\n20         tw.news.yahoo.com      27\n21                   udn.com     448\n22          www.bnext.com.tw      59\n23  www.businesstoday.com.tw     120\n24        www.chinatimes.com     621\n25            www.cna.com.tw       6\n26       www.coolloud.org.tw      25\n27             www.cw.com.tw      45\n28           www.ettoday.net     118\n29            www.fsc.gov.tw       9\n30         www.hbrtaiwan.com      14\n31              www.hk01.com     117\n32   www.managertoday.com.tw      14\n33        www.mirrormedia.mg     626\n34        www.nextmag.com.tw       4\n35           www.nownews.com       1\n36              www.setn.com      16\n37              www.storm.mg       1\n38         www.wealth.com.tw      29",
      "text/html": "<div>\n<style scoped>\n    .dataframe tbody tr th:only-of-type {\n        vertical-align: middle;\n    }\n\n    .dataframe tbody tr th {\n        vertical-align: top;\n    }\n\n    .dataframe thead th {\n        text-align: right;\n    }\n</style>\n<table border=\"1\" class=\"dataframe\">\n  <thead>\n    <tr style=\"text-align: right;\">\n      <th></th>\n      <th>name</th>\n      <th>counts</th>\n    </tr>\n  </thead>\n  <tbody>\n    <tr>\n      <th>0</th>\n      <td>ccc.technews.tw</td>\n      <td>10</td>\n    </tr>\n    <tr>\n      <th>1</th>\n      <td>domestic.judicial.gov.tw</td>\n      <td>30</td>\n    </tr>\n    <tr>\n      <th>2</th>\n      <td>ec.ltn.com.tw</td>\n      <td>6</td>\n    </tr>\n    <tr>\n      <th>3</th>\n      <td>ent.ltn.com.tw</td>\n      <td>2</td>\n    </tr>\n    <tr>\n      <th>4</th>\n      <td>estate.ltn.com.tw</td>\n      <td>1</td>\n    </tr>\n    <tr>\n      <th>5</th>\n      <td>finance.technews.tw</td>\n      <td>56</td>\n    </tr>\n    <tr>\n      <th>6</th>\n      <td>hk.on.cc</td>\n      <td>57</td>\n    </tr>\n    <tr>\n      <th>7</th>\n      <td>house.ettoday.net</td>\n      <td>1</td>\n    </tr>\n    <tr>\n      <th>8</th>\n      <td>m.ctee.com.tw</td>\n      <td>530</td>\n    </tr>\n    <tr>\n      <th>9</th>\n      <td>m.ltn.com.tw</td>\n      <td>12</td>\n    </tr>\n    <tr>\n      <th>10</th>\n      <td>money.udn.com</td>\n      <td>8</td>\n    </tr>\n    <tr>\n      <th>11</th>\n      <td>mops.twse.com.tw</td>\n      <td>273</td>\n    </tr>\n    <tr>\n      <th>12</th>\n      <td>news.cnyes.com</td>\n      <td>709</td>\n    </tr>\n    <tr>\n      <th>13</th>\n      <td>news.ebc.net.tw</td>\n      <td>1</td>\n    </tr>\n    <tr>\n      <th>14</th>\n      <td>news.ltn.com.tw</td>\n      <td>332</td>\n    </tr>\n    <tr>\n      <th>15</th>\n      <td>news.mingpao.com</td>\n      <td>379</td>\n    </tr>\n    <tr>\n      <th>16</th>\n      <td>news.tvbs.com.tw</td>\n      <td>112</td>\n    </tr>\n    <tr>\n      <th>17</th>\n      <td>ol.mingpao.com</td>\n      <td>4</td>\n    </tr>\n    <tr>\n      <th>18</th>\n      <td>sina.com.hk</td>\n      <td>72</td>\n    </tr>\n    <tr>\n      <th>19</th>\n      <td>technews.tw</td>\n      <td>128</td>\n    </tr>\n    <tr>\n      <th>20</th>\n      <td>tw.news.yahoo.com</td>\n      <td>27</td>\n    </tr>\n    <tr>\n      <th>21</th>\n      <td>udn.com</td>\n      <td>448</td>\n    </tr>\n    <tr>\n      <th>22</th>\n      <td>www.bnext.com.tw</td>\n      <td>59</td>\n    </tr>\n    <tr>\n      <th>23</th>\n      <td>www.businesstoday.com.tw</td>\n      <td>120</td>\n    </tr>\n    <tr>\n      <th>24</th>\n      <td>www.chinatimes.com</td>\n      <td>621</td>\n    </tr>\n    <tr>\n      <th>25</th>\n      <td>www.cna.com.tw</td>\n      <td>6</td>\n    </tr>\n    <tr>\n      <th>26</th>\n      <td>www.coolloud.org.tw</td>\n      <td>25</td>\n    </tr>\n    <tr>\n      <th>27</th>\n      <td>www.cw.com.tw</td>\n      <td>45</td>\n    </tr>\n    <tr>\n      <th>28</th>\n      <td>www.ettoday.net</td>\n      <td>118</td>\n    </tr>\n    <tr>\n      <th>29</th>\n      <td>www.fsc.gov.tw</td>\n      <td>9</td>\n    </tr>\n    <tr>\n      <th>30</th>\n      <td>www.hbrtaiwan.com</td>\n      <td>14</td>\n    </tr>\n    <tr>\n      <th>31</th>\n      <td>www.hk01.com</td>\n      <td>117</td>\n    </tr>\n    <tr>\n      <th>32</th>\n      <td>www.managertoday.com.tw</td>\n      <td>14</td>\n    </tr>\n    <tr>\n      <th>33</th>\n      <td>www.mirrormedia.mg</td>\n      <td>626</td>\n    </tr>\n    <tr>\n      <th>34</th>\n      <td>www.nextmag.com.tw</td>\n      <td>4</td>\n    </tr>\n    <tr>\n      <th>35</th>\n      <td>www.nownews.com</td>\n      <td>1</td>\n    </tr>\n    <tr>\n      <th>36</th>\n      <td>www.setn.com</td>\n      <td>16</td>\n    </tr>\n    <tr>\n      <th>37</th>\n      <td>www.storm.mg</td>\n      <td>1</td>\n    </tr>\n    <tr>\n      <th>38</th>\n      <td>www.wealth.com.tw</td>\n      <td>29</td>\n    </tr>\n  </tbody>\n</table>\n</div>"
     },
     "metadata": {},
     "execution_count": 6
    }
   ],
   "source": [
    "# 取出網站種類\n",
    "webKind = df[\"hyperlink\"].str.split('/').str.get(2)\n",
    "webKind, count = np.unique(webKind, return_counts = True)\n",
    "dict = {\"name\": webKind,  \n",
    "        \"counts\": count\n",
    "       }\n",
    "webKind_df = pd.DataFrame(dict)\n",
    "webKind_df"
   ]
  },
  {
   "cell_type": "code",
   "execution_count": 19,
   "metadata": {
    "tags": []
   },
   "outputs": [],
   "source": [
    "def getContext(url):\n",
    "    print(\"==========================\")\n",
    "    print(\"getContext url: \", url)\n",
    "    try:\n",
    "        soup, status_code = getSoup(url)\n",
    "    except:\n",
    "        soup = None\n",
    "        status_code = 404\n",
    "    contextStr = \"\"\n",
    "    if status_code != requests.codes.ok:\n",
    "        print(\"status_code: \", status_code, \"url: \", url)\n",
    "        contextStr = str(status_code)\n",
    "    else:\n",
    "        data = soup.find_all('p')\n",
    "        for context in data:\n",
    "            contextStr += context.text\n",
    "    return contextStr"
   ]
  },
  {
   "cell_type": "code",
   "execution_count": 20,
   "metadata": {
    "tags": []
   },
   "outputs": [
    {
     "output_type": "stream",
     "name": "stdout",
     "text": "==========================\ngetContext url:  https://m.ctee.com.tw/livenews/gj/ctee/a07672002019081610333753\nurl : https://m.ctee.com.tw/livenews/gj/ctee/a07672002019081610333753 \ncategory : m.ctee.com.tw \ncontext :  13:49 財經 | 《半導體》英特爾暫停出貨浪潮 外資憂信驊恐遭波及  13:48 生活 | 振興好運到 刮刮樂「幸運開獎機」「幸運777」歡喜登場  13:41 財經 | 《塑膠股》Q3拚回溫 台塑填息3成8  13:41 國際 | 四大科技巨擘執行長同意赴國會作證  13:38 財經 | 《熱門族群》電商不是吃素的！緊咬振興商機優惠一籮筐  13:24 財經 | 《半導體》Q3旺季看俏 日月光投控飆4月新高 華為創辦人任正非接受英國媒體訪問時表示，他相信英國不會拒絕華為參與建設5G網路。此外，他也堅稱，華為設備並沒有安裝「後門」程式。任正非接受英國天空新聞（Sky News）訪問時指出，英國首相強森（Boris Johnson）是一名果斷且有能力的人，他上任3日後已表明英國應該盡快建設5G網絡，相信英國經過嚴格測試，並以認真態度研究後，不會拒絕華為。他重申，華為的電訊設備並無如外界傳聞般按中國政府要求安裝後門程式，形容華為員工不會做一些令華為「破產、自尋死路」的事。但他承認，美國政府將華為列入貿易黑名單，限制美國企業向華為出口零部件及軟體，對華為造成嚴重損害。任正非強調，自從美國針對華為以來，他從未與中共領導人見面，否則將跌入了美國總統川普的圈套，但說若非對方大肆「宣傳」華為，外界根本不知道華為產品的競爭力。針對加拿大政府應美國要求，逮捕華為副董事長孟晚舟，並可能被引渡到美國，任正非認為，這並非一件小事，但孟晚舟目前情況良好，正在如常生活，重申中國和加拿大兩國之間的政治問題不應將華為甚至其家人牽涉在內。　7月壽險宣告利率出爐，前六大壽險不同調。國泰人壽7月份美元、台幣保單利率雙雙下探，南山人壽也調降台幣利變保單利率，中國人壽、新光人壽、富邦人壽按兵不A2 火線焦點 　新台幣連日大升，使得指標匯銀換匯爆大量。根據國內散戶換匯最多的龍頭銀行台銀統計，近五個交易日以來，台幣匯價勁揚帶動民眾進場買美元的交易熱潮，可說「日A2 火線焦點 　富邦金控1日舉辦財經趨勢論壇，富邦金控首席經濟學家羅瑋主講「下半年全球經濟關鍵趨勢暨金融市場展望」時指出，疫情、美國大選、貿易衝突和油價戰爭是下半年A2 火線焦點 　國泰金控總經理李長庚1日指出，全球低利環境、新冠肺炎疫情加上數位轉型趨勢三大因素，台灣金融業整併的時機點（Timing）已到。他以日本金融機構為例表A2 火線焦點 　韓國LCD面板產線的關廠效應發酵，市調單位Omdia首席分析師林筱茹表示，夏普與三星在此契機下，今年初重啟了事業合作的對談，時隔三年後，夏普SDP工A19 科技要聞 \n"
    }
   ],
   "source": [
    "# 單獨測試\n",
    "# 有問題 5\n",
    "index = 6\n",
    "url = df[\"hyperlink\"][index]\n",
    "category = getWebsiteCategory(url)\n",
    "context = getContext(url) \n",
    "print(\"url :\", url, \"\\ncategory :\", category, \"\\ncontext :\", context)"
   ]
  },
  {
   "cell_type": "code",
   "execution_count": 11,
   "metadata": {},
   "outputs": [],
   "source": [
    "df_addContext = df.copy()"
   ]
  },
  {
   "cell_type": "code",
   "execution_count": 12,
   "metadata": {},
   "outputs": [],
   "source": [
    "# 網站分類\n",
    "df_addContext['webKind'] = df_addContext['hyperlink'].apply(lambda x: getWebsiteCategory(x))"
   ]
  },
  {
   "cell_type": "code",
   "execution_count": 25,
   "metadata": {
    "tags": [
     "outputPrepend"
    ]
   },
   "outputs": [
    {
     "output_type": "stream",
     "name": "stderr",
     "text": "m/news/id/4426303\n 98%|█████████▊| 4920/5023 [1:57:27<02:48,  1.64s/it]==========================\ngetContext url:  https://www.chinatimes.com/newspapers/20190916000455-260210\n==========================\ngetContext url:  https://news.mingpao.com/ins/%e5%9c%8b%e9%9a%9b/article/20191101/s00005/1572574130337/%e7%be%8e%e5%8f%83%e8%ad%b0%e5%93%a1%e6%8f%90%e3%80%8ahong-kong-be-water-act%e3%80%8b-%e8%97%89%e6%b3%95%e6%a1%88%e5%88%b6%e8%a3%81%e4%b8%ad%e6%b8%af%e5%ae%98%e5%93%a1\n 98%|█████████▊| 4922/5023 [1:57:40<05:39,  3.36s/it]status_code:  404 url:  https://news.mingpao.com/ins/%e5%9c%8b%e9%9a%9b/article/20191101/s00005/1572574130337/%e7%be%8e%e5%8f%83%e8%ad%b0%e5%93%a1%e6%8f%90%e3%80%8ahong-kong-be-water-act%e3%80%8b-%e8%97%89%e6%b3%95%e6%a1%88%e5%88%b6%e8%a3%81%e4%b8%ad%e6%b8%af%e5%ae%98%e5%93%a1\n==========================\ngetContext url:  https://www.chinatimes.com/newspapers/20191117000329-260202\n==========================\ngetContext url:  https://sina.com.hk/news/article/20190927/1/11/2/%E4%B8%89%E5%8D%83%E5%81%87%E8%A9%95%E5%88%86%E6%AF%80%E6%8E%89%E4%B8%80%E9%83%A8%E5%A5%BD%E9%9B%BB%E5%BD%B1-%E6%B7%98%E7%A5%A8%E7%A5%A8%E5%B7%B2%E6%9F%A5%E5%B0%81%E6%95%B8%E8%90%AC%E6%83%A1%E6%84%8F%E8%B3%AC%E8%99%9F-10665927.html\n 98%|█████████▊| 4923/5023 [1:57:40<04:03,  2.44s/it]==========================\ngetContext url:  https://sina.com.hk/news/article/20191205/1/27/4/Google%E5%85%A9%E5%89%B5%E8%BE%A6%E4%BA%BA%E5%BC%95%E9%80%80-%E6%88%B0%E6%99%82CEO-%E6%8E%A5%E6%A3%92%E6%8C%91%E6%88%B0%E5%A4%A7-10917926.html\n 98%|█████████▊| 4925/5023 [1:57:40<02:05,  1.28s/it]==========================\ngetContext url:  https://mops.twse.com.tw/mops/web/t05st02?step=1&off=1&firstin=1&TYPEK=otc&i=159&h1590=%A4%A4%AC%FC%B9%EA&h1591=4702&h1592=20190812&h1593=151233&h1594=%A4%BD%A7%69%A5%BB%A4%BD%A5%71%B8%B3%A8%C6%B7%7C%A5%F4%A9%52%B7%73%A5%F4%B0%5D%B0%C8%BA%5B%B7%7C%AD%70%A5%44%BA%DE&h1595=1&pgname=t05st02\n==========================\ngetContext url:  https://mops.twse.com.tw/mops/web/t05st02?step=1&off=1&firstin=1&TYPEK=sii&i=199&h1990=GIS-KY&h1991=6456&h1992=20190805&h1993=184454&h1994=%A4%BD%A7%69%A5%BB%A4%BD%A5%71%B3%5D%B8%6D%A4%BD%A5%71%AA%76%B2%7A%A5%44%BA%DE&h1995=5&pgname=t05st02\n 98%|█████████▊| 4928/5023 [1:57:41<01:04,  1.47it/s]==========================\ngetContext url:  https://www.mirrormedia.mg/story/20191202ent017/\n==========================\ngetContext url:  https://www.mirrormedia.mg/story/20191017fin003/\n==========================\ngetContext url:  https://udn.com/news/story/6811/3965325\n 98%|█████████▊| 4929/5023 [1:57:44<02:13,  1.42s/it]status_code:  404 url:  https://udn.com/news/story/6811/3965325\n==========================\ngetContext url:  https://news.cnyes.com/news/id/4354286\n 98%|█████████▊| 4930/5023 [1:57:44<01:44,  1.13s/it]==========================\ngetContext url:  https://news.cnyes.com/news/id/4354626\n 98%|█████████▊| 4931/5023 [1:57:44<01:21,  1.14it/s]==========================\ngetContext url:  http://news.ltn.com.tw/news/society/breakingnews/2664730\n 98%|█████████▊| 4933/5023 [1:57:45<00:51,  1.76it/s]==========================\ngetContext url:  https://www.chinatimes.com/newspapers/20190826000278-260202\n==========================\ngetContext url:  https://news.tvbs.com.tw/politics/1250401\n 98%|█████████▊| 4934/5023 [1:57:45<00:48,  1.83it/s]==========================\ngetContext url:  https://news.tvbs.com.tw/politics/1248973\n 98%|█████████▊| 4936/5023 [1:57:46<00:33,  2.56it/s]==========================\ngetContext url:  https://mops.twse.com.tw/mops/web/t05st02?step=1&off=1&firstin=1&TYPEK=otc&i=102&h1020=%A5%40%A9%5B&h1021=4305&h1022=20191031&h1023=135413&h1024=%A4%BD%A7%69%A5%BB%A4%BD%A5%71%B0%5D%B0%C8%A1%42%B7%7C%AD%70%A5%44%BA%DE%BA%5B%A5%4E%B2%7A%B5%6F%A8%A5%A4%48%B2%A7%B0%CA&h1025=2&pgname=t05st02\n==========================\ngetContext url:  http://technews.tw/2019/10/25/henn-na-hotel-tapia-robots/\n 98%|█████████▊| 4938/5023 [1:57:46<00:23,  3.68it/s]==========================\ngetContext url:  https://www.ettoday.net/amp/amp_news.php?news_id=1485869&from=rss\n==========================\ngetContext url:  https://www.chinatimes.com/realtimenews/20191029000693-260107\n 98%|█████████▊| 4940/5023 [1:57:47<00:16,  4.93it/s]status_code:  500 url:  https://www.chinatimes.com/realtimenews/20191029000693-260107\n==========================\ngetContext url:  https://www.chinatimes.com/realtimenews/20191118003108-260402\n==========================\ngetContext url:  https://www.mirrormedia.mg/story/20191217inv019/\n 98%|█████████▊| 4941/5023 [1:57:47<00:14,  5.74it/s]==========================\ngetContext url:  https://news.cnyes.com/news/id/4366427\n 98%|█████████▊| 4942/5023 [1:57:47<00:17,  4.51it/s]==========================\ngetContext url:  https://www.hk01.com/天氣/411210/天文台-今日溫暖多雲-最高26度-晚間有微雨\n 98%|█████████▊| 4943/5023 [1:57:47<00:22,  3.55it/s]==========================\ngetContext url:  https://udn.com/news/story/7321/3722197\n 98%|█████████▊| 4944/5023 [1:57:48<00:23,  3.35it/s]==========================\ngetContext url:  https://m.ctee.com.tw/livenews/ch/chinatimes/20191126001752-260405\n 98%|█████████▊| 4945/5023 [1:57:48<00:22,  3.46it/s]==========================\ngetContext url:  https://udn.com/news/story/7315/3742787\n 98%|█████████▊| 4946/5023 [1:57:48<00:20,  3.72it/s]==========================\ngetContext url:  http://technews.tw/2019/11/19/vcsel-3d-face-recognition-trend/\n 98%|█████████▊| 4947/5023 [1:57:49<00:18,  4.03it/s]==========================\ngetContext url:  https://www.mirrormedia.mg/story/20191105edi001/\n==========================\ngetContext url:  https://news.cnyes.com/news/id/4356324\n 99%|█████████▊| 4950/5023 [1:57:49<00:16,  4.46it/s]==========================\ngetContext url:  https://www.chinatimes.com/realtimenews/20191027002986-260402?chdtv\n==========================\ngetContext url:  https://news.mingpao.com/ins/%e6%b8%af%e8%81%9e/article/20191230/s00001/1577673308543/%e6%97%85%e7%99%bc%e5%b1%80%e9%99%a4%e5%a4%95%e5%80%92%e6%95%b8%e5%a4%a7%e6%8a%bd%e7%8d%8e%e6%98%8e%e6%99%9a6%e6%99%82%e8%b5%b7%e7%99%bb%e8%a8%98-%e5%80%98%e7%b6%b2%e7%ab%99%e5%a4%aa%e7%b9%81%e5%bf%99%e3%80%8c%e5%bb%ba%e8%ad%b0%e7%a8%8d%e5%be%8c%e5%86%8d%e8%a9%a6%e3%80%8d%ef%bc%88%e9%99%84%e7%b6%b2%e9%a0%81%e9%80%a3%e7%b5%90%ef%bc%89\n 99%|█████████▊| 4952/5023 [1:58:01<03:10,  2.69s/it]status_code:  404 url:  https://news.mingpao.com/ins/%e6%b8%af%e8%81%9e/article/20191230/s00001/1577673308543/%e6%97%85%e7%99%bc%e5%b1%80%e9%99%a4%e5%a4%95%e5%80%92%e6%95%b8%e5%a4%a7%e6%8a%bd%e7%8d%8e%e6%98%8e%e6%99%9a6%e6%99%82%e8%b5%b7%e7%99%bb%e8%a8%98-%e5%80%98%e7%b6%b2%e7%ab%99%e5%a4%aa%e7%b9%81%e5%bf%99%e3%80%8c%e5%bb%ba%e8%ad%b0%e7%a8%8d%e5%be%8c%e5%86%8d%e8%a9%a6%e3%80%8d%ef%bc%88%e9%99%84%e7%b6%b2%e9%a0%81%e9%80%a3%e7%b5%90%ef%bc%89\n==========================\ngetContext url:  https://www.ettoday.net/news/20190924/1542316.htm\n 99%|█████████▊| 4953/5023 [1:58:02<02:14,  1.93s/it]==========================\ngetContext url:  https://www.ettoday.net/news/20190923/1541202.htm\n==========================\ngetContext url:  https://news.cnyes.com/news/id/4396119\n 99%|█████████▊| 4954/5023 [1:58:02<01:39,  1.44s/it]==========================\ngetContext url:  https://m.ctee.com.tw/livenews/aj/ctee/a83205002019102512251768\n 99%|█████████▊| 4955/5023 [1:58:02<01:13,  1.08s/it]==========================\ngetContext url:  https://udn.com/news/story/7238/4234993\n 99%|█████████▊| 4956/5023 [1:58:03<01:12,  1.08s/it]==========================\ngetContext url:  https://news.mingpao.com/ins/%e6%b8%af%e8%81%9e/article/20191016/s00001/1571212699710/%e3%80%90%e9%80%83%e7%8a%af%e6%a2%9d%e4%be%8b%e3%80%91%e5%85%a9%e4%ba%ba%e6%b6%89%e6%ac%84%e6%9d%86%e8%b2%bc%e6%b5%b7%e5%a0%b1%e8%a2%ab%e8%ad%a6%e7%a5%a8%e6%8e%a7-%e5%8f%8d%e4%bf%ae%e4%be%8b%e4%bb%a5%e4%be%86%e9%a6%96%e5%ae%97\n 99%|█████████▊| 4958/5023 [1:58:15<03:21,  3.10s/it]status_code:  404 url:  https://news.mingpao.com/ins/%e6%b8%af%e8%81%9e/article/20191016/s00001/1571212699710/%e3%80%90%e9%80%83%e7%8a%af%e6%a2%9d%e4%be%8b%e3%80%91%e5%85%a9%e4%ba%ba%e6%b6%89%e6%ac%84%e6%9d%86%e8%b2%bc%e6%b5%b7%e5%a0%b1%e8%a2%ab%e8%ad%a6%e7%a5%a8%e6%8e%a7-%e5%8f%8d%e4%bf%ae%e4%be%8b%e4%bb%a5%e4%be%86%e9%a6%96%e5%ae%97\n==========================\ngetContext url:  https://mops.twse.com.tw/mops/web/t05st02?step=1&off=1&firstin=1&TYPEK=sii&i=198&h1980=%A5%FC%C2%D7%AA%F7&h1981=2886&h1982=20190719&h1983=174514&h1984=%A5%4E%A5%BB%A4%BD%A5%71%A4%A7%A4%6C%A4%BD%A5%71%A5%FC%C2%D7%B0%EA%BB%DA%B0%D3%B7%7E%BB%C8%A6%E6%A4%BD%A7%69%A8%E4%0D%0A%A4%A4%B0%CF%C0%E7%B9%42%A4%A4%A4%DF%C0%E7%B9%42%AA%F8%B2%A7%B0%CA%A1%43&h1985=2&pgname=t05st02\n==========================\ngetContext url:  https://www.mirrormedia.mg/story/20191112edi012/\n==========================\ngetContext url:  https://news.cnyes.com/news/id/4364334\n 99%|█████████▊| 4960/5023 [1:58:16<02:20,  2.22s/it]==========================\ngetContext url:  https://news.tvbs.com.tw/politics/1238121\n 99%|█████████▉| 4961/5023 [1:58:16<01:44,  1.68s/it]==========================\ngetContext url:  https://www.mirrormedia.mg/story/20191114fin001/\n 99%|█████████▉| 4962/5023 [1:58:16<01:16,  1.25s/it]==========================\ngetContext url:  https://m.ctee.com.tw/livenews/ch/chinatimes/20190806003026-260405\n 99%|█████████▉| 4963/5023 [1:58:17<00:56,  1.06it/s]==========================\ngetContext url:  http://technews.tw/2019/09/03/litv-movie-drama-anime/\n 99%|█████████▉| 4964/5023 [1:58:17<00:42,  1.38it/s]==========================\ngetContext url:  https://www.cw.com.tw/article/article.action?id=5096320\n 99%|█████████▉| 4965/5023 [1:58:17<00:35,  1.64it/s]==========================\ngetContext url:  https://mops.twse.com.tw/mops/web/t05st02?step=1&off=1&firstin=1&TYPEK=sii&i=60&h600=%A5%FC%C2%D7%AA%F7&h601=2886&h602=20190830&h603=110228&h604=%A5%4E%A5%BB%A4%BD%A5%71%A4%A7%A4%6C%A4%BD%A5%71%A5%FC%C2%D7%B0%EA%BB%DA%C3%D2%A8%E9%A7%EB%B8%EA%C5%55%B0%DD%AA%D1%A5%F7%A6%B3%AD%AD%A4%BD%A5%71%0D%0A%A4%BD%A7%69%B8%B3%A8%C6%C3%E3%A5%F4&h605=1&pgname=t05st02\n==========================\ngetContext url:  https://www.mirrormedia.mg/story/20191024pol006/\n 99%|█████████▉| 4968/5023 [1:58:18<00:20,  2.73it/s]==========================\ngetContext url:  https://www.chinatimes.com/realtimenews/20191113004267-260402\n==========================\ngetContext url:  https://www.mirrormedia.mg/story/20190930mkt001/\n==========================\ngetContext url:  https://news.cnyes.com/news/id/4357359\n 99%|█████████▉| 4970/5023 [1:58:18<00:18,  2.79it/s]==========================\ngetContext url:  https://www.mirrormedia.mg/story/20191106pol002/\n==========================\ngetContext url:  https://news.ltn.com.tw/news/politics/paper/1310390\n 99%|█████████▉| 4972/5023 [1:58:19<00:18,  2.70it/s]==========================\ngetContext url:  https://news.cnyes.com/news/id/4406480\n 99%|█████████▉| 4974/5023 [1:58:19<00:13,  3.62it/s]==========================\ngetContext url:  https://www.chinatimes.com/realtimenews/20191224002245-260402\n==========================\ngetContext url:  https://hk.on.cc/hk/bkn/cnt/cnnews/20191229/bkn-20191229144958140-1229_00952_001.html\n 99%|█████████▉| 4976/5023 [1:58:20<00:10,  4.61it/s]==========================\ngetContext url:  https://www.mirrormedia.mg/story/20191001ent007/\n==========================\ngetContext url:  https://www.chinatimes.com/newspapers/20191001000209-260202\n 99%|█████████▉| 4977/5023 [1:58:20<00:08,  5.33it/s]==========================\ngetContext url:  https://news.mingpao.com/ins/%e9%ab%94%e8%82%b2/article/20191122/s00006/1574420303667/%e3%80%90%e8%8b%b1%e8%b6%85%e3%80%91%e6%9b%bc%e5%9f%8e%e8%bf%8e%e8%bb%8a%e4%bb%94%e8%89%be%e9%81%94%e8%87%a3%e5%8f%8a%e4%bd%90%e7%9c%9f%e5%a5%b4%e5%be%a9%e5%87%ba-%e6%b2%99%e5%8a%a0%e5%8b%a2%e5%8a%a9%e9%99%a3%e5%bb%a0%e5%85%b5-%e7%b4%85%e8%bb%8d%e6%b7%bb%e5%82%b7%e5%85%b5\n 99%|█████████▉| 4979/5023 [1:58:32<01:57,  2.67s/it]status_code:  404 url:  https://news.mingpao.com/ins/%e9%ab%94%e8%82%b2/article/20191122/s00006/1574420303667/%e3%80%90%e8%8b%b1%e8%b6%85%e3%80%91%e6%9b%bc%e5%9f%8e%e8%bf%8e%e8%bb%8a%e4%bb%94%e8%89%be%e9%81%94%e8%87%a3%e5%8f%8a%e4%bd%90%e7%9c%9f%e5%a5%b4%e5%be%a9%e5%87%ba-%e6%b2%99%e5%8a%a0%e5%8b%a2%e5%8a%a9%e9%99%a3%e5%bb%a0%e5%85%b5-%e7%b4%85%e8%bb%8d%e6%b7%bb%e5%82%b7%e5%85%b5\n==========================\ngetContext url:  https://www.cw.com.tw/article/article.action?id=5096565\n==========================\ngetContext url:  https://news.ltn.com.tw/news/society/breakingnews/2961632\n 99%|█████████▉| 4980/5023 [1:58:33<01:26,  2.02s/it]==========================\ngetContext url:  https://tw.news.yahoo.com/%E6%B6%89%E8%B2%AA%E8%AD%B0%E5%93%A1%E9%82%B1%E4%BD%B3%E4%BA%AE%E7%8D%B2%E9%82%80%E8%B5%B4%E4%B8%8A%E6%B5%B7%E5%8F%83%E8%A8%AA-%E6%B3%95%E5%AE%98%E8%A3%81%E5%87%86%E7%B9%B350%E8%90%AC%E5%85%83-064015949.html\n 99%|█████████▉| 4981/5023 [1:58:34<01:12,  1.73s/it]==========================\ngetContext url:  https://news.cnyes.com/news/id/4361481\n 99%|█████████▉| 4982/5023 [1:58:34<00:54,  1.32s/it]==========================\ngetContext url:  https://news.cnyes.com/news/id/4375092\n 99%|█████████▉| 4983/5023 [1:58:35<00:43,  1.09s/it]==========================\ngetContext url:  https://news.cnyes.com/news/id/4401029\n 99%|█████████▉| 4985/5023 [1:58:35<00:25,  1.48it/s]==========================\ngetContext url:  https://www.mirrormedia.mg/story/20191128edi018/\n==========================\ngetContext url:  https://news.cnyes.com/news/id/4361418\n 99%|█████████▉| 4986/5023 [1:58:35<00:21,  1.73it/s]==========================\ngetContext url:  https://udn.com/news/story/6809/4158254\n 99%|█████████▉| 4987/5023 [1:58:38<00:43,  1.21s/it]==========================\ngetContext url:  https://www.mirrormedia.mg/story/20191002insight001/\n==========================\ngetContext url:  https://news.cnyes.com/news/id/4375182\n 99%|█████████▉| 4989/5023 [1:58:39<00:31,  1.08it/s]==========================\ngetContext url:  https://m.ctee.com.tw/livenews/aj/chinatimes/20190927003496-260410\n 99%|█████████▉| 4991/5023 [1:58:39<00:17,  1.86it/s]==========================\ngetContext url:  https://www.chinatimes.com/newspapers/20190812000284-260206\n==========================\ngetContext url:  https://www.chinatimes.com/newspapers/20191118000259-260210\n 99%|█████████▉| 4992/5023 [1:58:39<00:12,  2.42it/s]==========================\ngetContext url:  https://news.cnyes.com/news/id/4373851\n 99%|█████████▉| 4993/5023 [1:58:40<00:12,  2.50it/s]==========================\ngetContext url:  https://m.ctee.com.tw/livenews/lm/chinatimes/20191120004965-260409\n 99%|█████████▉| 4994/5023 [1:58:40<00:11,  2.49it/s]==========================\ngetContext url:  https://m.ctee.com.tw/livenews/aj/chinatimes/20190903002169-260410\n 99%|█████████▉| 4996/5023 [1:58:40<00:07,  3.57it/s]==========================\ngetContext url:  https://www.chinatimes.com/realtimenews/20190811002061-260402?chdtv\n==========================\ngetContext url:  https://m.ctee.com.tw/livenews/aj/chinatimes/20191030001550-260410\n 99%|█████████▉| 4997/5023 [1:58:41<00:06,  3.75it/s]==========================\ngetContext url:  https://m.ctee.com.tw/livenews/ch/chinatimes/20191017003823-260405\n100%|█████████▉| 4999/5023 [1:58:41<00:05,  4.59it/s]==========================\ngetContext url:  https://www.chinatimes.com/newspapers/20190726000297-260203\n==========================\ngetContext url:  https://www.bnext.com.tw/article/54619/deepfakes-app-zao-privacy-concern\n100%|█████████▉| 5001/5023 [1:58:41<00:05,  4.23it/s]==========================\ngetContext url:  https://www.mirrormedia.mg/story/20191007edi016/\n==========================\ngetContext url:  https://news.cnyes.com/news/id/4397803\n100%|█████████▉| 5003/5023 [1:58:42<00:04,  4.23it/s]==========================\ngetContext url:  https://www.ettoday.net/news/20191227/1611760.htm\n==========================\ngetContext url:  https://www.mirrormedia.mg/story/20191120insight010/\n==========================\ngetContext url:  https://udn.com/news/story/7238/4071847\n100%|█████████▉| 5006/5023 [1:58:43<00:04,  3.56it/s]==========================\ngetContext url:  https://www.chinatimes.com/newspapers/20191125000237-260202\n==========================\ngetContext url:  https://news.mingpao.com/ins/%e6%b8%af%e8%81%9e/article/20191001/s00001/1569909610280/%e3%80%90%e5%8d%81%e4%b8%80-%e6%b2%b9%e5%b0%96%e6%97%ba%e3%80%91%e6%b6%88%e6%81%af-%e6%b2%b9%e9%ba%bb%e5%9c%b0%e5%85%a9%e8%ad%a6%e5%8f%97%e5%82%b7%e6%9b%be%e5%90%91%e5%a4%a9%e9%96%8b%e7%9c%9f%e6%a7%8d-%e9%95%b7%e6%b2%99%e7%81%a3%e6%94%bf%e5%ba%9c%e5%90%88%e7%bd%b2%e5%85%a7%e8%b5%b7%e7%81%ab\n100%|█████████▉| 5007/5023 [1:58:55<01:00,  3.80s/it]status_code:  404 url:  https://news.mingpao.com/ins/%e6%b8%af%e8%81%9e/article/20191001/s00001/1569909610280/%e3%80%90%e5%8d%81%e4%b8%80-%e6%b2%b9%e5%b0%96%e6%97%ba%e3%80%91%e6%b6%88%e6%81%af-%e6%b2%b9%e9%ba%bb%e5%9c%b0%e5%85%a9%e8%ad%a6%e5%8f%97%e5%82%b7%e6%9b%be%e5%90%91%e5%a4%a9%e9%96%8b%e7%9c%9f%e6%a7%8d-%e9%95%b7%e6%b2%99%e7%81%a3%e6%94%bf%e5%ba%9c%e5%90%88%e7%bd%b2%e5%85%a7%e8%b5%b7%e7%81%ab\n==========================\ngetContext url:  https://news.mingpao.com/ins/%e6%b8%af%e8%81%9e/article/20191208/s00001/1575767542720/3%e5%85%a7%e5%9c%b0%e7%94%b7%e4%b8%ad%e7%92%b0%e7%a0%b4%e8%bb%8a%e7%aa%97%e7%9b%9c%e7%ab%8a%e8%a2%ab%e6%8d%95\n100%|█████████▉| 5008/5023 [1:59:07<01:33,  6.26s/it]status_code:  404 url:  https://news.mingpao.com/ins/%e6%b8%af%e8%81%9e/article/20191208/s00001/1575767542720/3%e5%85%a7%e5%9c%b0%e7%94%b7%e4%b8%ad%e7%92%b0%e7%a0%b4%e8%bb%8a%e7%aa%97%e7%9b%9c%e7%ab%8a%e8%a2%ab%e6%8d%95\n==========================\ngetContext url:  https://news.mingpao.com/ins/%e6%b8%af%e8%81%9e/article/20191101/s00001/1572568504419/%e9%82%b5%e5%ae%b6%e8%87%bb-%e7%a4%be%e5%b7%a5%e7%82%ba%e4%bf%9d%e8%ad%b7%e4%b8%80%e5%a9%86%e5%a9%86%e9%81%ad%e9%98%b2%e6%9a%b4%e8%ad%a6%e6%89%93%e5%82%b7%e9%a0%ad%e7%b8%ab5%e9%87%9d\n100%|█████████▉| 5010/5023 [1:59:19<01:13,  5.63s/it]status_code:  404 url:  https://news.mingpao.com/ins/%e6%b8%af%e8%81%9e/article/20191101/s00001/1572568504419/%e9%82%b5%e5%ae%b6%e8%87%bb-%e7%a4%be%e5%b7%a5%e7%82%ba%e4%bf%9d%e8%ad%b7%e4%b8%80%e5%a9%86%e5%a9%86%e9%81%ad%e9%98%b2%e6%9a%b4%e8%ad%a6%e6%89%93%e5%82%b7%e9%a0%ad%e7%b8%ab5%e9%87%9d\n==========================\ngetContext url:  https://www.chinatimes.com/newspapers/20191007000406-260208\n==========================\ngetContext url:  https://m.ctee.com.tw/livenews/lm/chinatimes/20190901001426-260409\n100%|█████████▉| 5011/5023 [1:59:20<00:48,  4.05s/it]==========================\ngetContext url:  http://news.ltn.com.tw/news/society/breakingnews/2843752\n100%|█████████▉| 5013/5023 [1:59:20<00:20,  2.10s/it]status_code:  404 url:  http://news.ltn.com.tw/news/society/breakingnews/2843752\n==========================\ngetContext url:  https://www.ettoday.net/amp/amp_news.php?news_id=1488099&from=rss\n==========================\ngetContext url:  http://technews.tw/2019/11/13/insulin-research-dog/\n100%|█████████▉| 5014/5023 [1:59:21<00:13,  1.55s/it]==========================\ngetContext url:  https://www.mirrormedia.mg/story/20191104fin021/\n==========================\ngetContext url:  https://www.chinatimes.com/realtimenews/20190913002554-260402\n100%|█████████▉| 5017/5023 [1:59:21<00:04,  1.22it/s]==========================\ngetContext url:  https://www.mirrormedia.mg/story/20191224ent011/\n==========================\ngetContext url:  https://www.chinatimes.com/newspapers/20190711000335-260204\n100%|█████████▉| 5018/5023 [1:59:21<00:03,  1.63it/s]==========================\ngetContext url:  https://udn.com/news/story/120538/4032584\n100%|█████████▉| 5019/5023 [1:59:23<00:04,  1.01s/it]==========================\ngetContext url:  https://news.cnyes.com/news/id/4357901\n100%|█████████▉| 5020/5023 [1:59:24<00:02,  1.11it/s]==========================\ngetContext url:  http://www.coolloud.org.tw/node/93286\n100%|█████████▉| 5022/5023 [1:59:24<00:00,  1.66it/s]==========================\ngetContext url:  https://www.chinatimes.com/realtimenews/20190711003183-260402\n==========================\ngetContext url:  https://news.cnyes.com/news/id/4375179\n100%|██████████| 5023/5023 [1:59:25<00:00,  1.43s/it]\n"
    }
   ],
   "source": [
    "# 原本想用lambda 不過這樣爬蟲會爬太快\n",
    "#df_addContext['contextCrawler'] = df_addContext['hyperlink'].apply(lambda x: getContext(x))\n",
    "contextList = []\n",
    "hyperlinkList = df_addContext['hyperlink']\n",
    "for index, url in enumerate(tqdm(hyperlinkList)):\n",
    "    context = getContext(url)\n",
    "    contextList.append(context)"
   ]
  },
  {
   "cell_type": "code",
   "execution_count": 26,
   "metadata": {
    "tags": []
   },
   "outputs": [
    {
     "output_type": "stream",
     "name": "stderr",
     "text": "100%|██████████| 5023/5023 [00:00<00:00, 125713.74it/s]\n"
    }
   ],
   "source": [
    "df_addContext[\"content_c\"] = \"\"\n",
    "for index, text in enumerate(tqdm(contextList)):\n",
    "    df_addContext.at[index, \"content_c\"] = text"
   ]
  },
  {
   "cell_type": "code",
   "execution_count": 27,
   "metadata": {},
   "outputs": [],
   "source": [
    "df_addContext.to_csv('./data/Result.csv')"
   ]
  }
 ],
 "metadata": {
  "language_info": {
   "codemirror_mode": {
    "name": "ipython",
    "version": 3
   },
   "file_extension": ".py",
   "mimetype": "text/x-python",
   "name": "python",
   "nbconvert_exporter": "python",
   "pygments_lexer": "ipython3",
   "version": "3.7.4-final"
  },
  "orig_nbformat": 2,
  "kernelspec": {
   "name": "python37464bitbaseconda1c305fe59c07462d89243a67d7cd60ae",
   "display_name": "Python 3.7.4 64-bit ('base': conda)"
  }
 },
 "nbformat": 4,
 "nbformat_minor": 2
}