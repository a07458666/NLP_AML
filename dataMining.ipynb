{
 "cells": [
  {
   "cell_type": "code",
   "execution_count": 3,
   "metadata": {},
   "outputs": [],
   "source": [
    "import numpy as np\n",
    "import pandas as pd"
   ]
  },
  {
   "cell_type": "code",
   "execution_count": 6,
   "metadata": {},
   "outputs": [],
   "source": [
    "df = pd.read_csv('./data/tbrain_train_final_0610.csv')  \n"
   ]
  },
  {
   "cell_type": "code",
   "execution_count": 7,
   "metadata": {
    "tags": []
   },
   "outputs": [
    {
     "output_type": "stream",
     "name": "stdout",
     "text": "news_ID                                          hyperlink  \\\n0           1             https://news.cnyes.com/news/id/4352432   \n1           2          https://udn.com/news/story/120775/4112519   \n2           3   https://www.mirrormedia.mg/story/20191008soc011/   \n3           4  https://www.chinatimes.com/realtimenews/201909...   \n4           5  http://domestic.judicial.gov.tw/abbs/wkw/WHD9H...   \n...       ...                                                ...   \n5018     5019          https://udn.com/news/story/120538/4032584   \n5019     5020             https://news.cnyes.com/news/id/4357901   \n5020     5021              http://www.coolloud.org.tw/node/93286   \n5021     5022  https://www.chinatimes.com/realtimenews/201907...   \n5022     5023             https://news.cnyes.com/news/id/4375179   \n\n                                                content name  \n0     0理財基金量化交易追求絕對報酬有效對抗牛熊市鉅亨網記者鄭心芸2019/07/05 22:35...   []  \n1     10月13日晚間發生Uber Eats黃姓外送人員職災死亡案件 ### 省略內文 ### 北...   []  \n2     2019.10.08 01:53【法拍有詭4】飯店遭管委會斷水斷電員工怒吼：生計何去何從？文...   []  \n3     58歲林姓男子昨凌晨與朋友聚餐結束後 ### 省略內文 ### 而地點就距離林家僅30公尺。...   []  \n4     例稿名稱：臺灣屏東地方法院公示催告公告發文日期：中華民國108年9月20日發文字號：屏院進家...   []  \n...                                                 ...  ...  \n5018  「一碗水救不了森林大火」香港抗議者不理特首撤回修例繼續在各地示威路透社香港特首林鄭月娥4日宣...   []  \n5019  0台股台股盤勢【華冠投顧】OTC轉強小樹走高華冠投顧※來源：華冠投顧2019/07/15 1...   []  \n5020      近日教育部在媒體上宣布駁回世新大學社發所的停招申請案 ### 省略內文 ### 造成...   []  \n5021  史上金額最大開發案「台北雙子星」最優申請人「南海團隊」香港商南海發展有限公司、馬來西亞商馬頓...   []  \n5022  0期貨股票影/今年上半年三大股票期貨交易策略最賺錢鉅亨網記者鄭心芸、李佳泓2019/09/0...   []  \n\n[5023 rows x 4 columns]\n"
    }
   ],
   "source": [
    "print(df)"
   ]
  },
  {
   "cell_type": "code",
   "execution_count": null,
   "metadata": {},
   "outputs": [],
   "source": []
  }
 ],
 "metadata": {
  "language_info": {
   "codemirror_mode": {
    "name": "ipython",
    "version": 3
   },
   "file_extension": ".py",
   "mimetype": "text/x-python",
   "name": "python",
   "nbconvert_exporter": "python",
   "pygments_lexer": "ipython3",
   "version": "3.7.4-final"
  },
  "orig_nbformat": 2,
  "kernelspec": {
   "name": "python37464bitbaseconda1c305fe59c07462d89243a67d7cd60ae",
   "display_name": "Python 3.7.4 64-bit ('base': conda)"
  }
 },
 "nbformat": 4,
 "nbformat_minor": 2
}