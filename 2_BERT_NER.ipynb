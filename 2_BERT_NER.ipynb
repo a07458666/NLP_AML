{
  "nbformat": 4,
  "nbformat_minor": 0,
  "metadata": {
    "colab": {
      "name": "2_BERT_NER.ipynb",
      "provenance": [],
      "private_outputs": true,
      "collapsed_sections": [],
      "authorship_tag": "ABX9TyNE9tT+kEG0QdgGh30KB8LH",
      "include_colab_link": true
    },
    "kernelspec": {
      "name": "python3",
      "display_name": "Python 3"
    }
  },
  "cells": [
    {
      "cell_type": "markdown",
      "metadata": {
        "id": "view-in-github",
        "colab_type": "text"
      },
      "source": [
        "<a href=\"https://colab.research.google.com/github/a07458666/TBrainNLP/blob/master/2_BERT_NER.ipynb\" target=\"_parent\"><img src=\"https://colab.research.google.com/assets/colab-badge.svg\" alt=\"Open In Colab\"/></a>"
      ]
    },
    {
      "cell_type": "code",
      "metadata": {
        "id": "ocMaUipHe7J8",
        "colab_type": "code",
        "colab": {}
      },
      "source": [
        "!pip install kashgari==1.1.5\n",
        "!pip install tensorflow-gpu==1.15.0\n",
        "!pip install keras-applications==1.0.8\n",
        "!pip install keras==2.3.1"
      ],
      "execution_count": null,
      "outputs": []
    },
    {
      "cell_type": "code",
      "metadata": {
        "id": "KQITeGlsfABw",
        "colab_type": "code",
        "colab": {}
      },
      "source": [
        "import os\n",
        "import re\n",
        "import numpy as np\n",
        "import pandas as pd\n",
        "from google.colab import drive\n",
        "from tqdm import tqdm\n",
        "\n",
        "drive.mount('/content/drive')\n",
        "os.chdir(r\"/content/drive/My Drive/tbrainData/\")"
      ],
      "execution_count": null,
      "outputs": []
    },
    {
      "cell_type": "markdown",
      "metadata": {
        "id": "rkd3urPcfbKF",
        "colab_type": "text"
      },
      "source": [
        "## Load Data"
      ]
    },
    {
      "cell_type": "code",
      "metadata": {
        "id": "VmdehfokfgcL",
        "colab_type": "code",
        "colab": {}
      },
      "source": [
        ""
      ],
      "execution_count": null,
      "outputs": []
    },
    {
      "cell_type": "markdown",
      "metadata": {
        "id": "noC1P0sRizYN",
        "colab_type": "text"
      },
      "source": [
        "## Model"
      ]
    },
    {
      "cell_type": "code",
      "metadata": {
        "id": "jMf6Bwj-i2OT",
        "colab_type": "code",
        "colab": {}
      },
      "source": [
        "from kashgari.corpus import ChineseDailyNerCorpus\n",
        "from kashgari.tasks.labeling import BiLSTM_Model\n",
        "\n",
        "# 加载内置数据集，此处可以替换成自己的数据集，保证格式一致即可\n",
        "train_x, train_y = ChineseDailyNerCorpus.load_data('train')\n",
        "test_x, test_y = ChineseDailyNerCorpus.load_data('test')\n",
        "valid_x, valid_y = ChineseDailyNerCorpus.load_data('valid')\n",
        "\n",
        "model = BiLSTM_Model()\n",
        "model.fit(train_x, train_y, valid_x, valid_y, epochs=50)\n"
      ],
      "execution_count": null,
      "outputs": []
    },
    {
      "cell_type": "code",
      "metadata": {
        "id": "0MofK5UjlYTl",
        "colab_type": "code",
        "colab": {}
      },
      "source": [
        "from kashgari.embeddings import BERTEmbedding\n",
        "from kashgari.tasks.labeling import BiGRU_Model\n",
        "from kashgari.corpus import ChineseDailyNerCorpus\n",
        "\n",
        "# 下载 BERT 权重\n",
        "bert_embedding = BERTEmbedding('<bert-model-folder>', sequence_length=30)\n",
        "model = BiGRU_Model(bert_embedding)\n",
        "\n",
        "train_x, train_y = ChineseDailyNerCorpus.load_data()\n",
        "model.fit(train_x, train_y)"
      ],
      "execution_count": null,
      "outputs": []
    }
  ]
}