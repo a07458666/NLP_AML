{
 "cells": [
  {
   "cell_type": "code",
   "execution_count": 1,
   "metadata": {
    "tags": []
   },
   "outputs": [
    {
     "output_type": "stream",
     "name": "stdout",
     "text": "PyTorch 版本： 1.3.1\n"
    }
   ],
   "source": [
    "import torch\n",
    "from transformers import BertTokenizer\n",
    "from IPython.display import clear_output\n",
    "from transformers import BertForMaskedLM\n",
    "\n",
    "PRETRAINED_MODEL_NAME = \"bert-base-chinese\"  # 繁簡中文 BERT-BASE 預訓練模型\n",
    "\n",
    "# 取得此預訓練模型所使用的 tokenizer\n",
    "tokenizer = BertTokenizer.from_pretrained(PRETRAINED_MODEL_NAME)\n",
    "\n",
    "clear_output()\n",
    "print(\"PyTorch 版本：\", torch.__version__)"
   ]
  },
  {
   "cell_type": "code",
   "execution_count": 2,
   "metadata": {
    "tags": []
   },
   "outputs": [],
   "source": [
    "import nltk\n",
    "import jieba.analyse"
   ]
  },
  {
   "cell_type": "code",
   "execution_count": 3,
   "metadata": {
    "tags": []
   },
   "outputs": [],
   "source": [
    "string_data = \"財經 | 《半導體》英特爾暫停出貨浪潮 外資憂信驊恐遭波及  13:48 生活 | 振興好運到 刮刮樂「幸運開獎機」「幸運777」歡喜登場  13:41 財經 | 《塑膠股》Q3拚回溫 台塑填息3成8  13:41 國際 | 四大科技巨擘執行長同意赴國會作證  13:38 財經 | 《熱門族群》電商不是吃素的！緊咬振興商機優惠一籮筐  13:24 財經 | 《半導體》Q3旺季看俏 日月光投控飆4月新高 華為創辦人任正非接受英國媒體訪問時表示，他相信英國不會拒絕華為參與建設5G網路。此外，他也堅稱，華為設備並沒有安裝「後門」程式。任正非接受英國天空新聞（Sky News）訪問時指出，英國首相強森（Boris Johnson）是一名果斷且有能力的人，他上任3日後已表明英國應該盡快建設5G網絡，相信英國經過嚴格測試，並以認真態度研究後，不會拒絕華為。他重申，華為的電訊設備並無如外界傳聞般按中國政府要求安裝後門程式，形容華為員工不會做一些令華為「破產、自尋死路」的事。但他承認，美國政府將華為列入貿易黑名單，限制美國企業向華為出口零部件及軟體，對華為造成嚴重損害。任正非強調，自從美國針對華為以來，他從未與中共領導人見面，否則將跌入了美國總統川普的圈套，但說若非對方大肆「宣傳」華為，外界根本不知道華為產品的競爭力。針對加拿大政府應美國要求，逮捕華為副董事長孟晚舟，並可能被引渡到美國，任正非認為，這並非一件小事，但孟晚舟目前情況良好，正在如常生活，重申中國和加拿大兩國之間的政治問題不應將華為甚至其家人牽涉在內。　7月壽險宣告利率出爐，前六大壽險不同調。國泰人壽7月份美元、台幣保單利率雙雙下探，南山人壽也調降台幣利變保單利率，中國人壽、新光人壽、富邦人壽按兵不A2 火線焦點 　新台幣連日大升，使得指標匯銀換匯爆大量。根據國內散戶換匯最多的龍頭銀行台銀統計，近五個交易日以來，台幣匯價勁揚帶動民眾進場買美元的交易熱潮，可說「日A2 火線焦點 　富邦金控1日舉辦財經趨勢論壇，富邦金控首席經濟學家羅瑋主講「下半年全球經濟關鍵趨勢暨金融市場展望」時指出，疫情、美國大選、貿易衝突和油價戰爭是下半年A2 火線焦點 　國泰金控總經理李長庚1日指出，全球低利環境、新冠肺炎疫情加上數位轉型趨勢三大因素，台灣金融業整併的時機點（Timing）已到。他以日本金融機構為例表A2 火線焦點 　韓國LCD面板產線的關廠效應發酵，市調單位Omdia首席分析師林筱茹表示，夏普與三星在此契機下，今年初重啟了事業合作的對談，時隔三年後，夏普SDP工A19 科技要聞 \""
   ]
  },
  {
   "cell_type": "code",
   "execution_count": 4,
   "metadata": {
    "tags": []
   },
   "outputs": [
    {
     "output_type": "stream",
     "name": "stderr",
     "text": "Building prefix dict from the default dictionary ...\nLoading model from cache C:\\Users\\AndySu\\AppData\\Local\\Temp\\jieba.cache\nLoading model cost 0.818 seconds.\nPrefix dict has been built successfully.\n0.5945072697899838\n"
    }
   ],
   "source": [
    "cut= nltk.text.Text(jieba.cut(string_data))\n",
    "print(len(set(cut)) / len(cut))"
   ]
  },
  {
   "cell_type": "code",
   "execution_count": 5,
   "metadata": {
    "tags": []
   },
   "outputs": [
    {
     "output_type": "stream",
     "name": "stdout",
     "text": "\n"
    }
   ],
   "source": [
    "cut.similar(\"研究\")"
   ]
  },
  {
   "cell_type": "code",
   "execution_count": 6,
   "metadata": {},
   "outputs": [
    {
     "output_type": "execute_result",
     "data": {
      "text/plain": "[' ', '|', ' ', '《', '半導體', '》', '英特', '爾', '暫停']"
     },
     "metadata": {},
     "execution_count": 6
    }
   ],
   "source": [
    "cut[1:10]"
   ]
  },
  {
   "cell_type": "code",
   "execution_count": 7,
   "metadata": {},
   "outputs": [
    {
     "output_type": "error",
     "ename": "ModuleNotFoundError",
     "evalue": "No module named 'nltk_opennlp'",
     "traceback": [
      "\u001b[1;31m---------------------------------------------------------------------------\u001b[0m",
      "\u001b[1;31mModuleNotFoundError\u001b[0m                       Traceback (most recent call last)",
      "\u001b[1;32m<ipython-input-7-c35d87d5e1e7>\u001b[0m in \u001b[0;36m<module>\u001b[1;34m\u001b[0m\n\u001b[1;32m----> 1\u001b[1;33m \u001b[1;32mfrom\u001b[0m \u001b[0mnltk_opennlp\u001b[0m\u001b[1;33m.\u001b[0m\u001b[0mtaggers\u001b[0m \u001b[1;32mimport\u001b[0m \u001b[0mOpenNLPTagger\u001b[0m\u001b[1;33m\u001b[0m\u001b[1;33m\u001b[0m\u001b[0m\n\u001b[0m\u001b[0;32m      2\u001b[0m \u001b[1;33m\u001b[0m\u001b[0m\n\u001b[0;32m      3\u001b[0m tt = OpenNLPTagger(language='en',\n\u001b[0;32m      4\u001b[0m                     \u001b[0mpath_to_bin\u001b[0m\u001b[1;33m=\u001b[0m\u001b[0mos\u001b[0m\u001b[1;33m.\u001b[0m\u001b[0mpath\u001b[0m\u001b[1;33m.\u001b[0m\u001b[0mjoin\u001b[0m\u001b[1;33m(\u001b[0m\u001b[1;34m'/path/to/opennlp/installation'\u001b[0m\u001b[1;33m,\u001b[0m \u001b[1;34m'bin'\u001b[0m\u001b[1;33m)\u001b[0m\u001b[1;33m,\u001b[0m\u001b[1;33m\u001b[0m\u001b[1;33m\u001b[0m\u001b[0m\n\u001b[0;32m      5\u001b[0m                     path_to_model=os.path.join('/path/to/opennlp/models', 'en-pos-maxent.bin'))\n",
      "\u001b[1;31mModuleNotFoundError\u001b[0m: No module named 'nltk_opennlp'"
     ]
    }
   ],
   "source": [
    "from nltk_opennlp.taggers import OpenNLPTagger\n",
    "\n",
    "tt = OpenNLPTagger(language='en',\n",
    "                    path_to_bin=os.path.join('/path/to/opennlp/installation', 'bin'),\n",
    "                    path_to_model=os.path.join('/path/to/opennlp/models', 'en-pos-maxent.bin'))\n",
    "phrase = 'Pierre Vinken , 61 years old , will join the board as a nonexecutive director Nov. 29 .'\n",
    "sentence = tt.tag(phrase)"
   ]
  },
  {
   "cell_type": "code",
   "execution_count": null,
   "metadata": {},
   "outputs": [],
   "source": []
  }
 ],
 "metadata": {
  "language_info": {
   "codemirror_mode": {
    "name": "ipython",
    "version": 3
   },
   "file_extension": ".py",
   "mimetype": "text/x-python",
   "name": "python",
   "nbconvert_exporter": "python",
   "pygments_lexer": "ipython3",
   "version": "3.7.4-final"
  },
  "orig_nbformat": 2,
  "kernelspec": {
   "name": "python37464bitbaseconda1c305fe59c07462d89243a67d7cd60ae",
   "display_name": "Python 3.7.4 64-bit ('base': conda)"
  }
 },
 "nbformat": 4,
 "nbformat_minor": 2
}