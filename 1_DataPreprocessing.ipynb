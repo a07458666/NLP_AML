{
  "nbformat": 4,
  "nbformat_minor": 0,
  "metadata": {
    "colab": {
      "name": "1_DataPreprocessing.ipynb",
      "provenance": [],
      "private_outputs": true,
      "authorship_tag": "ABX9TyO0YUT/21Sby1aFpuLGEI0Y",
      "include_colab_link": true
    },
    "kernelspec": {
      "name": "python3",
      "display_name": "Python 3"
    }
  },
  "cells": [
    {
      "cell_type": "markdown",
      "metadata": {
        "id": "view-in-github",
        "colab_type": "text"
      },
      "source": [
        "<a href=\"https://colab.research.google.com/github/a07458666/TBrainNLP/blob/master/1_DataPreprocessing.ipynb\" target=\"_parent\"><img src=\"https://colab.research.google.com/assets/colab-badge.svg\" alt=\"Open In Colab\"/></a>"
      ]
    },
    {
      "cell_type": "code",
      "metadata": {
        "id": "vDBApJJNXgK5",
        "colab_type": "code",
        "colab": {}
      },
      "source": [
        "import os\n",
        "import re\n",
        "import numpy as np\n",
        "import pandas as pd\n",
        "from google.colab import drive\n",
        "from tqdm import tqdm"
      ],
      "execution_count": null,
      "outputs": []
    },
    {
      "cell_type": "code",
      "metadata": {
        "id": "smFm2fmkXzAP",
        "colab_type": "code",
        "colab": {}
      },
      "source": [
        "drive.mount('/content/drive')\n",
        "os.chdir(r\"/content/drive/My Drive/tbrainData/\")\n",
        "# 讀入官方的data\n",
        "newsDf = pd.read_csv('train_final.csv')\n",
        "newsDf.head()"
      ],
      "execution_count": null,
      "outputs": []
    },
    {
      "cell_type": "markdown",
      "metadata": {
        "id": "QhhAf44JYK3F",
        "colab_type": "text"
      },
      "source": [
        "## 文章前處理\n",
        "刪除 英文 數字 特殊符號"
      ]
    },
    {
      "cell_type": "code",
      "metadata": {
        "id": "yGbIg6-oYXbo",
        "colab_type": "code",
        "colab": {}
      },
      "source": [
        "newsDf[\"article\"] = newsDf[\"article\"].apply(lambda x: re.sub(\"[-／〔〕【】（）「」()：:0-9A-Za-z\\n\\r//、.%，▲◆▪。？<>#*!]\", \"\", str(x)))\n",
        "newsDf.head(50)"
      ],
      "execution_count": null,
      "outputs": []
    },
    {
      "cell_type": "markdown",
      "metadata": {
        "id": "_uSm7s1LdL3Y",
        "colab_type": "text"
      },
      "source": [
        "### article to BIO and word"
      ]
    },
    {
      "cell_type": "code",
      "metadata": {
        "id": "Fn5uN2TqdUbd",
        "colab_type": "code",
        "colab": {}
      },
      "source": [
        ""
      ],
      "execution_count": null,
      "outputs": []
    }
  ]
}