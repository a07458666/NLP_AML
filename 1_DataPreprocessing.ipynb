{
  "nbformat": 4,
  "nbformat_minor": 0,
  "metadata": {
    "colab": {
      "name": "1_DataPreprocessing.ipynb",
      "provenance": [],
      "private_outputs": true,
      "authorship_tag": "ABX9TyMH5ZAD4UOGB5jmnJGaoMwC",
      "include_colab_link": true
    },
    "kernelspec": {
      "name": "python3",
      "display_name": "Python 3"
    }
  },
  "cells": [
    {
      "cell_type": "markdown",
      "metadata": {
        "id": "view-in-github",
        "colab_type": "text"
      },
      "source": [
        "<a href=\"https://colab.research.google.com/github/a07458666/TBrainNLP/blob/master/1_DataPreprocessing.ipynb\" target=\"_parent\"><img src=\"https://colab.research.google.com/assets/colab-badge.svg\" alt=\"Open In Colab\"/></a>"
      ]
    },
    {
      "cell_type": "code",
      "metadata": {
        "id": "vDBApJJNXgK5",
        "colab_type": "code",
        "colab": {}
      },
      "source": [
        "import os\n",
        "import re\n",
        "import numpy as np\n",
        "import pandas as pd\n",
        "from google.colab import drive\n",
        "from tqdm import tqdm"
      ],
      "execution_count": null,
      "outputs": []
    },
    {
      "cell_type": "code",
      "metadata": {
        "id": "smFm2fmkXzAP",
        "colab_type": "code",
        "colab": {}
      },
      "source": [
        "drive.mount('/content/drive')\n",
        "os.chdir(r\"/content/drive/My Drive/tbrainData/\")\n",
        "# 讀入官方的data\n",
        "newsDf = pd.read_csv('train_final.csv')\n",
        "newsDf.head()"
      ],
      "execution_count": null,
      "outputs": []
    },
    {
      "cell_type": "markdown",
      "metadata": {
        "id": "QhhAf44JYK3F",
        "colab_type": "text"
      },
      "source": [
        "## 文章前處理\n",
        "刪除 英文 數字 特殊符號"
      ]
    },
    {
      "cell_type": "code",
      "metadata": {
        "id": "yGbIg6-oYXbo",
        "colab_type": "code",
        "colab": {}
      },
      "source": [
        "newsDf[\"article\"] = newsDf[\"article\"].apply(lambda x: re.sub(\"[-／〔〕【】（）「」()：:0-9A-Za-z\\n\\r//、.%，▲◆▪<>#*]\", \"\", str(x)))\n",
        "newsDf[\"article\"] = newsDf[\"article\"].apply(lambda x: re.sub(\"[!！？?]\", \"。\", str(x)))\n",
        "\n",
        "newsDf.head(50)"
      ],
      "execution_count": null,
      "outputs": []
    },
    {
      "cell_type": "markdown",
      "metadata": {
        "id": "xhUHwIg5rH3D",
        "colab_type": "text"
      },
      "source": [
        "## 將文章分成句子\n",
        "因為文章太長 不可能一次進入模型\n",
        "所以一個句子一個句子預測名字"
      ]
    },
    {
      "cell_type": "code",
      "metadata": {
        "id": "uAwvc9g8rHjn",
        "colab_type": "code",
        "colab": {}
      },
      "source": [
        ""
      ],
      "execution_count": null,
      "outputs": []
    },
    {
      "cell_type": "markdown",
      "metadata": {
        "id": "_uSm7s1LdL3Y",
        "colab_type": "text"
      },
      "source": [
        "### article to BIO and word"
      ]
    },
    {
      "cell_type": "code",
      "metadata": {
        "id": "Fn5uN2TqdUbd",
        "colab_type": "code",
        "colab": {}
      },
      "source": [
        "articleAndNameDf = pd.DataFrame({'article':newsDf['article'], 'name': newsDf['name']})"
      ],
      "execution_count": null,
      "outputs": []
    },
    {
      "cell_type": "code",
      "metadata": {
        "id": "xQiTBBkHoQgW",
        "colab_type": "code",
        "colab": {}
      },
      "source": [
        "def split(word):\n",
        "  return [char for char in word]\n",
        "def articleToBIO(name, char):\n",
        "  BIO = []\n",
        "  return BIO\n",
        "articleAndNameDf['BIO'] = articleAndNameDf['article'].apply(lambda x:split(x))"
      ],
      "execution_count": null,
      "outputs": []
    },
    {
      "cell_type": "code",
      "metadata": {
        "id": "sCJ8QuDooVW4",
        "colab_type": "code",
        "colab": {}
      },
      "source": [
        "articleAndNameDf.head(35)"
      ],
      "execution_count": null,
      "outputs": []
    },
    {
      "cell_type": "code",
      "metadata": {
        "id": "ELSw7BLUqcAh",
        "colab_type": "code",
        "colab": {}
      },
      "source": [
        ""
      ],
      "execution_count": null,
      "outputs": []
    }
  ]
}